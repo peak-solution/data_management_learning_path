{
 "cells": [
  {
   "cell_type": "markdown",
   "metadata": {},
   "source": [
    "# Load openMDM Measurement Data (Time Series)\n",
    "\n",
    "In this example Notebook, we show you how to load time series (channel) data from your openMDM Server.\n",
    "\n",
    "The first sections are on initializing and connecting. The fun starts with \"Load Measurement\".\n"
   ]
  },
  {
   "cell_type": "markdown",
   "metadata": {},
   "source": [
    "Configure the base_url to your openMDM installation. \n",
    "You can then open the **Web client** to explore your data interactively or open the **swagger OpenAPI contract** to inspect the API. "
   ]
  },
  {
   "cell_type": "code",
   "execution_count": 1,
   "metadata": {},
   "outputs": [
    {
     "name": "stdout",
     "output_type": "stream",
     "text": [
      "Web Client: https://docker.peak-solution.de:10031/org.eclipse.mdm.nucleus\n",
      "OpenAPI: https://docker.peak-solution.de:10031/org.eclipse.mdm.nucleus/swagger.html\n"
     ]
    }
   ],
   "source": [
    "#base_url ='http://docker.peaksolution.local:82/org.eclipse.mdm.nucleus'\n",
    "base_url ='https://docker.peak-solution.de:10031/org.eclipse.mdm.nucleus'\n",
    "\n",
    "\n",
    "print(f\"Web Client: {base_url}\")\n",
    "print(f\"OpenAPI: {base_url}/swagger.html\")"
   ]
  },
  {
   "cell_type": "markdown",
   "metadata": {},
   "source": [
    "## Dependencies for this notebook"
   ]
  },
  {
   "cell_type": "code",
   "execution_count": 2,
   "metadata": {},
   "outputs": [],
   "source": [
    "import requests\n",
    "import sys\n",
    "import json\n",
    "import mdm_pb2 as mdm\n",
    "from google.protobuf.timestamp_pb2 import Timestamp\n"
   ]
  },
  {
   "cell_type": "markdown",
   "metadata": {},
   "source": [
    "## Establish session"
   ]
  },
  {
   "cell_type": "code",
   "execution_count": 3,
   "metadata": {},
   "outputs": [],
   "source": [
    "\n",
    "# login at glassfish http interface with form based authentication\n",
    "session = requests.Session()\n",
    "session.headers={'Content-Type': 'application/json', 'Accept': 'application/json'}\n",
    "\n",
    "r = session.post(base_url + '/j_security_check', data={'j_username': 'Demo', 'j_password': 'mdm'}, headers={'Content-Type': 'application/x-www-form-urlencoded'})\n",
    "\n",
    "r.raise_for_status() # throw if failed"
   ]
  },
  {
   "cell_type": "markdown",
   "metadata": {},
   "source": [
    "The openMDM API is a session based API. The session object contains the session cookie. Close this session to release the connection license. Otherwise the session will be auto closed after 30 minutes of inactivity."
   ]
  },
  {
   "cell_type": "markdown",
   "metadata": {},
   "source": [
    "## Select a Data Source\n",
    "\n",
    "List all available data sources and select one to go on."
   ]
  },
  {
   "cell_type": "code",
   "execution_count": 4,
   "metadata": {},
   "outputs": [
    {
     "name": "stdout",
     "output_type": "stream",
     "text": [
      "['NVHDEMO', 'CRASHDEMO', 'BLANKDEMO', 'ADASDEMO', 'FDXDEMO']\n"
     ]
    },
    {
     "data": {
      "text/plain": [
       "'NVHDEMO'"
      ]
     },
     "execution_count": 4,
     "metadata": {},
     "output_type": "execute_result"
    }
   ],
   "source": [
    "r = session.get(f'{base_url}/mdm/datasources')\n",
    "r.raise_for_status() # throw if failed\n",
    "print(r.json())\n",
    "\n",
    "SOURCENAME=r.json()[0]\n",
    "SOURCENAME"
   ]
  },
  {
   "cell_type": "markdown",
   "metadata": {},
   "source": [
    "## 📊 Load Measurement \n",
    "\n",
    "Measurement (or time series) data is contained in a structure called 'ChannelGroup' (SubMatrix) containing the individual channels (columns) of the measurement.\n",
    "\n",
    "\n",
    "In the example below the ChannelGroups related to a specific Measurement (in our example named 'Channel') are requested from the server and the first ChannelGroup of that list is selected for further data exploration."
   ]
  },
  {
   "cell_type": "code",
   "execution_count": 5,
   "metadata": {},
   "outputs": [
    {
     "name": "stdout",
     "output_type": "stream",
     "text": [
      "{\"type\":\"ChannelGroup\",\"data\":[{\"name\":\"Channel\",\"id\":\"2000\",\"type\":\"ChannelGroup\",\"sourceType\":\"SubMatrix\",\"sourceName\":\"NVHDEMO\",\"attributes\":[{\"name\":\"MimeType\",\"value\":\"application/x-asam.aosubmatrix\",\"unit\":\"\",\"dataType\":\"STRING\"},{\"name\":\"SubMatrixNoRows\",\"value\":\"3001\",\"unit\":\"\",\"dataType\":\"INTEGER\"},{\"name\":\"Name\",\"value\":\"Channel\",\"unit\":\"\",\"dataType\":\"STRING\"}],\"relations\":[]},{\"name\":\"Channel\",\"id\":\"3\",\"type\":\"ChannelGroup\",\"sourceType\":\"SubMatrix\",\"sourceName\":\"NVHDEMO\",\"attributes\":[{\"name\":\"MimeType\",\"value\":\"application/x-asam.aosubmatrix\",\"unit\":\"\",\"dataType\":\"STRING\"},{\"name\":\"SubMatrixNoRows\",\"value\":\"3001\",\"unit\":\"\",\"dataType\":\"INTEGER\"},{\"name\":\"Name\",\"value\":\"Channel\",\"unit\":\"\",\"dataType\":\"STRING\"}],\"relations\":[]}]}\n"
     ]
    },
    {
     "data": {
      "text/plain": [
       "'2000'"
      ]
     },
     "execution_count": 5,
     "metadata": {},
     "output_type": "execute_result"
    }
   ],
   "source": [
    "# request channelGroups\n",
    "r = session.get(f'{base_url}/mdm/environments/{SOURCENAME}/channelgroups',\n",
    "        params={'filter' : \"Measurement.Name eq 'Channel'\"})\n",
    "r.raise_for_status()\n",
    "print(r.text)\n",
    "channelGroup = r.json()\n",
    "channelGroup['data'][0]['id']\n"
   ]
  },
  {
   "cell_type": "markdown",
   "metadata": {},
   "source": [
    "Now let's query the measurement data from that ChannelGroup:"
   ]
  },
  {
   "cell_type": "code",
   "execution_count": 6,
   "metadata": {},
   "outputs": [],
   "source": [
    "\n",
    "# create a ReadRequest Protobuf Object\n",
    "readRequest = mdm.ReadRequest(\n",
    "        channel_group_id = channelGroup['data'][0]['id'],\n",
    "        values_mode = mdm.ValuesMode.Value('CALCULATED') )\n",
    "\n",
    "# Post the ReadRequest to the backend\n",
    "r = session.post(f'{base_url}/mdm/environments/{SOURCENAME}/values/read',\n",
    "        headers={'Content-Type': 'application/protobuf', 'Accept': 'application/protobuf'}, \n",
    "        data=readRequest.SerializeToString())\n",
    "r.raise_for_status()\n",
    "# Parse result\n",
    "mvl = mdm.MeasuredValuesList()\n",
    "_ = mvl.ParseFromString(r.content)"
   ]
  },
  {
   "cell_type": "markdown",
   "metadata": {},
   "source": [
    "For better usage of the protobuf data we provide a method to copy the content into a pandas dataframe:"
   ]
  },
  {
   "cell_type": "code",
   "execution_count": 7,
   "metadata": {},
   "outputs": [],
   "source": [
    "import pandas as pd\n",
    "import numpy as np\n",
    "\n",
    "def values_to_pandas(values):\n",
    "    data = {}\n",
    "    for value in values:\n",
    "        if value.scalar_type == mdm.ScalarType.DOUBLE:\n",
    "            data[value.name] = np.array(value.double_array.values)\n",
    "        if value.scalar_type == mdm.ScalarType.FLOAT:\n",
    "            data[value.name] = np.array(value.float_array.values)\n",
    "        elif value.scalar_type == mdm.ScalarType.INTEGER:\n",
    "            data[value.name] = np.array(value.integer_array.values)\n",
    "    return pd.DataFrame(data)"
   ]
  },
  {
   "cell_type": "markdown",
   "metadata": {},
   "source": [
    "And now we can easily plot the content:😊"
   ]
  },
  {
   "cell_type": "code",
   "execution_count": 8,
   "metadata": {},
   "outputs": [
    {
     "data": {
      "text/html": [
       "<div>\n",
       "<style scoped>\n",
       "    .dataframe tbody tr th:only-of-type {\n",
       "        vertical-align: middle;\n",
       "    }\n",
       "\n",
       "    .dataframe tbody tr th {\n",
       "        vertical-align: top;\n",
       "    }\n",
       "\n",
       "    .dataframe thead th {\n",
       "        text-align: right;\n",
       "    }\n",
       "</style>\n",
       "<table border=\"1\" class=\"dataframe\">\n",
       "  <thead>\n",
       "    <tr style=\"text-align: right;\">\n",
       "      <th></th>\n",
       "      <th>CHANNEL07</th>\n",
       "      <th>CHANNEL04</th>\n",
       "      <th>CHANNEL08</th>\n",
       "      <th>CHANNEL05</th>\n",
       "      <th>CHANNEL01</th>\n",
       "      <th>CHANNEL03</th>\n",
       "      <th>CHANNEL09</th>\n",
       "      <th>CHANNEL02</th>\n",
       "      <th>CHANNEL10</th>\n",
       "      <th>X-Axis</th>\n",
       "      <th>CHANNEL06</th>\n",
       "    </tr>\n",
       "  </thead>\n",
       "  <tbody>\n",
       "    <tr>\n",
       "      <th>0</th>\n",
       "      <td>-0.192593</td>\n",
       "      <td>-4.51025</td>\n",
       "      <td>0.770431</td>\n",
       "      <td>0.000002</td>\n",
       "      <td>0.000004</td>\n",
       "      <td>-4.44111</td>\n",
       "      <td>-0.579521</td>\n",
       "      <td>2.027780</td>\n",
       "      <td>0.371926</td>\n",
       "      <td>1</td>\n",
       "      <td>-1.746230e-07</td>\n",
       "    </tr>\n",
       "    <tr>\n",
       "      <th>1</th>\n",
       "      <td>-0.192593</td>\n",
       "      <td>-4.51025</td>\n",
       "      <td>0.770431</td>\n",
       "      <td>0.000002</td>\n",
       "      <td>0.000004</td>\n",
       "      <td>-2.03551</td>\n",
       "      <td>-0.579521</td>\n",
       "      <td>2.027780</td>\n",
       "      <td>0.371926</td>\n",
       "      <td>2</td>\n",
       "      <td>-1.746230e-07</td>\n",
       "    </tr>\n",
       "    <tr>\n",
       "      <th>2</th>\n",
       "      <td>-0.192593</td>\n",
       "      <td>-4.51025</td>\n",
       "      <td>0.770431</td>\n",
       "      <td>-6.521530</td>\n",
       "      <td>0.000004</td>\n",
       "      <td>-4.44111</td>\n",
       "      <td>-0.579521</td>\n",
       "      <td>2.027780</td>\n",
       "      <td>0.371926</td>\n",
       "      <td>3</td>\n",
       "      <td>-1.746230e-07</td>\n",
       "    </tr>\n",
       "    <tr>\n",
       "      <th>3</th>\n",
       "      <td>-0.192593</td>\n",
       "      <td>2.00455</td>\n",
       "      <td>0.770431</td>\n",
       "      <td>-6.521530</td>\n",
       "      <td>2.401750</td>\n",
       "      <td>-4.44111</td>\n",
       "      <td>-0.579521</td>\n",
       "      <td>2.027780</td>\n",
       "      <td>0.371926</td>\n",
       "      <td>4</td>\n",
       "      <td>-1.746230e-07</td>\n",
       "    </tr>\n",
       "    <tr>\n",
       "      <th>4</th>\n",
       "      <td>-0.192593</td>\n",
       "      <td>2.00455</td>\n",
       "      <td>0.770431</td>\n",
       "      <td>-6.521530</td>\n",
       "      <td>0.000004</td>\n",
       "      <td>-4.44111</td>\n",
       "      <td>-0.579521</td>\n",
       "      <td>-0.368683</td>\n",
       "      <td>0.371926</td>\n",
       "      <td>5</td>\n",
       "      <td>-1.746230e-07</td>\n",
       "    </tr>\n",
       "    <tr>\n",
       "      <th>...</th>\n",
       "      <td>...</td>\n",
       "      <td>...</td>\n",
       "      <td>...</td>\n",
       "      <td>...</td>\n",
       "      <td>...</td>\n",
       "      <td>...</td>\n",
       "      <td>...</td>\n",
       "      <td>...</td>\n",
       "      <td>...</td>\n",
       "      <td>...</td>\n",
       "      <td>...</td>\n",
       "    </tr>\n",
       "    <tr>\n",
       "      <th>2996</th>\n",
       "      <td>-3.659270</td>\n",
       "      <td>86.69690</td>\n",
       "      <td>14.060400</td>\n",
       "      <td>-26.086100</td>\n",
       "      <td>4.803500</td>\n",
       "      <td>-14.06350</td>\n",
       "      <td>9.851860</td>\n",
       "      <td>2.027780</td>\n",
       "      <td>10.815600</td>\n",
       "      <td>2997</td>\n",
       "      <td>-1.575960e+02</td>\n",
       "    </tr>\n",
       "    <tr>\n",
       "      <th>2997</th>\n",
       "      <td>-3.659270</td>\n",
       "      <td>86.69690</td>\n",
       "      <td>13.867800</td>\n",
       "      <td>-26.086100</td>\n",
       "      <td>2.401750</td>\n",
       "      <td>-11.65790</td>\n",
       "      <td>9.658690</td>\n",
       "      <td>2.027780</td>\n",
       "      <td>11.009000</td>\n",
       "      <td>2998</td>\n",
       "      <td>-1.575960e+02</td>\n",
       "    </tr>\n",
       "    <tr>\n",
       "      <th>2998</th>\n",
       "      <td>-3.659270</td>\n",
       "      <td>86.69690</td>\n",
       "      <td>13.675200</td>\n",
       "      <td>-26.086100</td>\n",
       "      <td>4.803500</td>\n",
       "      <td>-11.65790</td>\n",
       "      <td>9.658690</td>\n",
       "      <td>2.027780</td>\n",
       "      <td>11.009000</td>\n",
       "      <td>2999</td>\n",
       "      <td>-1.575960e+02</td>\n",
       "    </tr>\n",
       "    <tr>\n",
       "      <th>2999</th>\n",
       "      <td>-3.659270</td>\n",
       "      <td>86.69690</td>\n",
       "      <td>13.675200</td>\n",
       "      <td>-26.086100</td>\n",
       "      <td>4.803500</td>\n",
       "      <td>-11.65790</td>\n",
       "      <td>9.465520</td>\n",
       "      <td>2.027780</td>\n",
       "      <td>11.009000</td>\n",
       "      <td>3000</td>\n",
       "      <td>-1.575960e+02</td>\n",
       "    </tr>\n",
       "    <tr>\n",
       "      <th>3000</th>\n",
       "      <td>-3.659270</td>\n",
       "      <td>86.69690</td>\n",
       "      <td>13.867800</td>\n",
       "      <td>-26.086100</td>\n",
       "      <td>4.803500</td>\n",
       "      <td>-11.65790</td>\n",
       "      <td>9.465520</td>\n",
       "      <td>2.027780</td>\n",
       "      <td>11.009000</td>\n",
       "      <td>3001</td>\n",
       "      <td>-1.575960e+02</td>\n",
       "    </tr>\n",
       "  </tbody>\n",
       "</table>\n",
       "<p>3001 rows × 11 columns</p>\n",
       "</div>"
      ],
      "text/plain": [
       "      CHANNEL07  CHANNEL04  CHANNEL08  CHANNEL05  CHANNEL01  CHANNEL03  \\\n",
       "0     -0.192593   -4.51025   0.770431   0.000002   0.000004   -4.44111   \n",
       "1     -0.192593   -4.51025   0.770431   0.000002   0.000004   -2.03551   \n",
       "2     -0.192593   -4.51025   0.770431  -6.521530   0.000004   -4.44111   \n",
       "3     -0.192593    2.00455   0.770431  -6.521530   2.401750   -4.44111   \n",
       "4     -0.192593    2.00455   0.770431  -6.521530   0.000004   -4.44111   \n",
       "...         ...        ...        ...        ...        ...        ...   \n",
       "2996  -3.659270   86.69690  14.060400 -26.086100   4.803500  -14.06350   \n",
       "2997  -3.659270   86.69690  13.867800 -26.086100   2.401750  -11.65790   \n",
       "2998  -3.659270   86.69690  13.675200 -26.086100   4.803500  -11.65790   \n",
       "2999  -3.659270   86.69690  13.675200 -26.086100   4.803500  -11.65790   \n",
       "3000  -3.659270   86.69690  13.867800 -26.086100   4.803500  -11.65790   \n",
       "\n",
       "      CHANNEL09  CHANNEL02  CHANNEL10  X-Axis     CHANNEL06  \n",
       "0     -0.579521   2.027780   0.371926       1 -1.746230e-07  \n",
       "1     -0.579521   2.027780   0.371926       2 -1.746230e-07  \n",
       "2     -0.579521   2.027780   0.371926       3 -1.746230e-07  \n",
       "3     -0.579521   2.027780   0.371926       4 -1.746230e-07  \n",
       "4     -0.579521  -0.368683   0.371926       5 -1.746230e-07  \n",
       "...         ...        ...        ...     ...           ...  \n",
       "2996   9.851860   2.027780  10.815600    2997 -1.575960e+02  \n",
       "2997   9.658690   2.027780  11.009000    2998 -1.575960e+02  \n",
       "2998   9.658690   2.027780  11.009000    2999 -1.575960e+02  \n",
       "2999   9.465520   2.027780  11.009000    3000 -1.575960e+02  \n",
       "3000   9.465520   2.027780  11.009000    3001 -1.575960e+02  \n",
       "\n",
       "[3001 rows x 11 columns]"
      ]
     },
     "execution_count": 8,
     "metadata": {},
     "output_type": "execute_result"
    }
   ],
   "source": [
    "values_to_pandas(mvl.values)"
   ]
  },
  {
   "cell_type": "markdown",
   "metadata": {},
   "source": [
    "## Load Aggregates of Measurement Data\n",
    "\n",
    "If we have lots of values in our measurement we can chunk the data and retrieve\n",
    "- Minimum (min)\n",
    "- Maximum (max)\n",
    "- Average (avg)\n",
    "\n",
    "Which can be used for preview or statistical analysis of the data."
   ]
  },
  {
   "cell_type": "code",
   "execution_count": 9,
   "metadata": {},
   "outputs": [],
   "source": [
    "# create a PreviewRequest Protobuf Object with 10 chunks\n",
    "previewRequest = mdm.PreviewRequest(\n",
    "    read_request = readRequest,\n",
    "    number_of_chunks = 10)\n",
    "\n",
    "# Post the PreviewRequest to the backend\n",
    "r = session.post(f'{base_url}/mdm/environments/{SOURCENAME}/values/preview',\n",
    "        headers={'Content-Type': 'application/protobuf', 'Accept': 'application/protobuf'}, \n",
    "        data=previewRequest.SerializeToString())\n",
    "r.raise_for_status()\n",
    "pvl = mdm.PreviewValuesList()\n",
    "_ = pvl.ParseFromString(r.content)\n"
   ]
  },
  {
   "cell_type": "markdown",
   "metadata": {},
   "source": [
    "### Minimum"
   ]
  },
  {
   "cell_type": "code",
   "execution_count": 10,
   "metadata": {},
   "outputs": [
    {
     "data": {
      "text/html": [
       "<div>\n",
       "<style scoped>\n",
       "    .dataframe tbody tr th:only-of-type {\n",
       "        vertical-align: middle;\n",
       "    }\n",
       "\n",
       "    .dataframe tbody tr th {\n",
       "        vertical-align: top;\n",
       "    }\n",
       "\n",
       "    .dataframe thead th {\n",
       "        text-align: right;\n",
       "    }\n",
       "</style>\n",
       "<table border=\"1\" class=\"dataframe\">\n",
       "  <thead>\n",
       "    <tr style=\"text-align: right;\">\n",
       "      <th></th>\n",
       "      <th>CHANNEL07</th>\n",
       "      <th>CHANNEL04</th>\n",
       "      <th>CHANNEL08</th>\n",
       "      <th>CHANNEL05</th>\n",
       "      <th>CHANNEL01</th>\n",
       "      <th>CHANNEL03</th>\n",
       "      <th>CHANNEL09</th>\n",
       "      <th>CHANNEL02</th>\n",
       "      <th>CHANNEL10</th>\n",
       "      <th>X-Axis</th>\n",
       "      <th>CHANNEL06</th>\n",
       "    </tr>\n",
       "  </thead>\n",
       "  <tbody>\n",
       "    <tr>\n",
       "      <th>0</th>\n",
       "      <td>-0.385186</td>\n",
       "      <td>-11.025</td>\n",
       "      <td>-2.384190e-07</td>\n",
       "      <td>-13.0431</td>\n",
       "      <td>0.000004</td>\n",
       "      <td>-4.44111</td>\n",
       "      <td>-0.772695</td>\n",
       "      <td>-0.368683</td>\n",
       "      <td>-0.401679</td>\n",
       "      <td>1.0</td>\n",
       "      <td>-5.434360e+00</td>\n",
       "    </tr>\n",
       "    <tr>\n",
       "      <th>1</th>\n",
       "      <td>-0.192593</td>\n",
       "      <td>-11.025</td>\n",
       "      <td>-1.926080e-01</td>\n",
       "      <td>-19.5646</td>\n",
       "      <td>0.000004</td>\n",
       "      <td>-2.03551</td>\n",
       "      <td>-0.386347</td>\n",
       "      <td>-0.368683</td>\n",
       "      <td>-0.401679</td>\n",
       "      <td>301.0</td>\n",
       "      <td>-1.746230e-07</td>\n",
       "    </tr>\n",
       "    <tr>\n",
       "      <th>2</th>\n",
       "      <td>-8.088910</td>\n",
       "      <td>-206.469</td>\n",
       "      <td>-8.378440e+01</td>\n",
       "      <td>-815.1910</td>\n",
       "      <td>7.205240</td>\n",
       "      <td>-21.28030</td>\n",
       "      <td>-15.453900</td>\n",
       "      <td>-7.558060</td>\n",
       "      <td>2.112540</td>\n",
       "      <td>601.0</td>\n",
       "      <td>5.434360e+00</td>\n",
       "    </tr>\n",
       "    <tr>\n",
       "      <th>3</th>\n",
       "      <td>-3.466680</td>\n",
       "      <td>-134.806</td>\n",
       "      <td>-2.546280e+02</td>\n",
       "      <td>-332.5980</td>\n",
       "      <td>115.284000</td>\n",
       "      <td>-26.09160</td>\n",
       "      <td>-15.260700</td>\n",
       "      <td>-319.098000</td>\n",
       "      <td>-44.884000</td>\n",
       "      <td>901.0</td>\n",
       "      <td>5.434360e+00</td>\n",
       "    </tr>\n",
       "    <tr>\n",
       "      <th>4</th>\n",
       "      <td>-38.518600</td>\n",
       "      <td>2666.560</td>\n",
       "      <td>7.453920e+01</td>\n",
       "      <td>-619.5450</td>\n",
       "      <td>52.838400</td>\n",
       "      <td>67.72700</td>\n",
       "      <td>39.793800</td>\n",
       "      <td>54.749800</td>\n",
       "      <td>-147.580000</td>\n",
       "      <td>1201.0</td>\n",
       "      <td>-1.695520e+03</td>\n",
       "    </tr>\n",
       "  </tbody>\n",
       "</table>\n",
       "</div>"
      ],
      "text/plain": [
       "   CHANNEL07  CHANNEL04     CHANNEL08  CHANNEL05   CHANNEL01  CHANNEL03  \\\n",
       "0  -0.385186    -11.025 -2.384190e-07   -13.0431    0.000004   -4.44111   \n",
       "1  -0.192593    -11.025 -1.926080e-01   -19.5646    0.000004   -2.03551   \n",
       "2  -8.088910   -206.469 -8.378440e+01  -815.1910    7.205240  -21.28030   \n",
       "3  -3.466680   -134.806 -2.546280e+02  -332.5980  115.284000  -26.09160   \n",
       "4 -38.518600   2666.560  7.453920e+01  -619.5450   52.838400   67.72700   \n",
       "\n",
       "   CHANNEL09   CHANNEL02   CHANNEL10  X-Axis     CHANNEL06  \n",
       "0  -0.772695   -0.368683   -0.401679     1.0 -5.434360e+00  \n",
       "1  -0.386347   -0.368683   -0.401679   301.0 -1.746230e-07  \n",
       "2 -15.453900   -7.558060    2.112540   601.0  5.434360e+00  \n",
       "3 -15.260700 -319.098000  -44.884000   901.0  5.434360e+00  \n",
       "4  39.793800   54.749800 -147.580000  1201.0 -1.695520e+03  "
      ]
     },
     "execution_count": 10,
     "metadata": {},
     "output_type": "execute_result"
    }
   ],
   "source": [
    "\n",
    "values_to_pandas(pvl.min).head()\n"
   ]
  },
  {
   "cell_type": "markdown",
   "metadata": {},
   "source": [
    "### Maximum"
   ]
  },
  {
   "cell_type": "code",
   "execution_count": 11,
   "metadata": {},
   "outputs": [
    {
     "data": {
      "text/html": [
       "<div>\n",
       "<style scoped>\n",
       "    .dataframe tbody tr th:only-of-type {\n",
       "        vertical-align: middle;\n",
       "    }\n",
       "\n",
       "    .dataframe tbody tr th {\n",
       "        vertical-align: top;\n",
       "    }\n",
       "\n",
       "    .dataframe thead th {\n",
       "        text-align: right;\n",
       "    }\n",
       "</style>\n",
       "<table border=\"1\" class=\"dataframe\">\n",
       "  <thead>\n",
       "    <tr style=\"text-align: right;\">\n",
       "      <th></th>\n",
       "      <th>CHANNEL07</th>\n",
       "      <th>CHANNEL04</th>\n",
       "      <th>CHANNEL08</th>\n",
       "      <th>CHANNEL05</th>\n",
       "      <th>CHANNEL01</th>\n",
       "      <th>CHANNEL03</th>\n",
       "      <th>CHANNEL09</th>\n",
       "      <th>CHANNEL02</th>\n",
       "      <th>CHANNEL10</th>\n",
       "      <th>X-Axis</th>\n",
       "      <th>CHANNEL06</th>\n",
       "    </tr>\n",
       "  </thead>\n",
       "  <tbody>\n",
       "    <tr>\n",
       "      <th>0</th>\n",
       "      <td>4.940656e-324</td>\n",
       "      <td>2.00455</td>\n",
       "      <td>0.770431</td>\n",
       "      <td>1.862650e-06</td>\n",
       "      <td>2.40175</td>\n",
       "      <td>0.370093</td>\n",
       "      <td>4.940656e-324</td>\n",
       "      <td>2.02778</td>\n",
       "      <td>0.371926</td>\n",
       "      <td>300.0</td>\n",
       "      <td>4.940656e-324</td>\n",
       "    </tr>\n",
       "    <tr>\n",
       "      <th>1</th>\n",
       "      <td>1.925930e-01</td>\n",
       "      <td>2.00455</td>\n",
       "      <td>1.348250</td>\n",
       "      <td>1.862650e-06</td>\n",
       "      <td>4.80350</td>\n",
       "      <td>0.370093</td>\n",
       "      <td>8.940700e-08</td>\n",
       "      <td>6.82069</td>\n",
       "      <td>2.112540</td>\n",
       "      <td>600.0</td>\n",
       "      <td>5.434360e+00</td>\n",
       "    </tr>\n",
       "    <tr>\n",
       "      <th>2</th>\n",
       "      <td>8.512620e+01</td>\n",
       "      <td>184.41900</td>\n",
       "      <td>27.350300</td>\n",
       "      <td>4.940656e-324</td>\n",
       "      <td>112.88200</td>\n",
       "      <td>9.992470</td>\n",
       "      <td>3.805520e+01</td>\n",
       "      <td>28.38880</td>\n",
       "      <td>94.364900</td>\n",
       "      <td>900.0</td>\n",
       "      <td>2.967160e+03</td>\n",
       "    </tr>\n",
       "    <tr>\n",
       "      <th>3</th>\n",
       "      <td>8.512620e+01</td>\n",
       "      <td>2549.29000</td>\n",
       "      <td>66.064500</td>\n",
       "      <td>1.093660e+04</td>\n",
       "      <td>821.39600</td>\n",
       "      <td>180.790000</td>\n",
       "      <td>4.153240e+01</td>\n",
       "      <td>265.63800</td>\n",
       "      <td>95.718700</td>\n",
       "      <td>1200.0</td>\n",
       "      <td>3.706230e+03</td>\n",
       "    </tr>\n",
       "    <tr>\n",
       "      <th>4</th>\n",
       "      <td>4.237050e+00</td>\n",
       "      <td>5735.02000</td>\n",
       "      <td>177.970000</td>\n",
       "      <td>7.108470e+02</td>\n",
       "      <td>403.49300</td>\n",
       "      <td>127.867000</td>\n",
       "      <td>1.400510e+02</td>\n",
       "      <td>280.01700</td>\n",
       "      <td>19.518600</td>\n",
       "      <td>1501.0</td>\n",
       "      <td>4.940656e-324</td>\n",
       "    </tr>\n",
       "  </tbody>\n",
       "</table>\n",
       "</div>"
      ],
      "text/plain": [
       "       CHANNEL07   CHANNEL04   CHANNEL08      CHANNEL05  CHANNEL01  \\\n",
       "0  4.940656e-324     2.00455    0.770431   1.862650e-06    2.40175   \n",
       "1   1.925930e-01     2.00455    1.348250   1.862650e-06    4.80350   \n",
       "2   8.512620e+01   184.41900   27.350300  4.940656e-324  112.88200   \n",
       "3   8.512620e+01  2549.29000   66.064500   1.093660e+04  821.39600   \n",
       "4   4.237050e+00  5735.02000  177.970000   7.108470e+02  403.49300   \n",
       "\n",
       "    CHANNEL03      CHANNEL09  CHANNEL02  CHANNEL10  X-Axis      CHANNEL06  \n",
       "0    0.370093  4.940656e-324    2.02778   0.371926   300.0  4.940656e-324  \n",
       "1    0.370093   8.940700e-08    6.82069   2.112540   600.0   5.434360e+00  \n",
       "2    9.992470   3.805520e+01   28.38880  94.364900   900.0   2.967160e+03  \n",
       "3  180.790000   4.153240e+01  265.63800  95.718700  1200.0   3.706230e+03  \n",
       "4  127.867000   1.400510e+02  280.01700  19.518600  1501.0  4.940656e-324  "
      ]
     },
     "execution_count": 11,
     "metadata": {},
     "output_type": "execute_result"
    }
   ],
   "source": [
    "\n",
    "values_to_pandas(pvl.max).head()\n"
   ]
  },
  {
   "cell_type": "markdown",
   "metadata": {},
   "source": [
    "### Average"
   ]
  },
  {
   "cell_type": "code",
   "execution_count": 12,
   "metadata": {},
   "outputs": [
    {
     "data": {
      "text/html": [
       "<div>\n",
       "<style scoped>\n",
       "    .dataframe tbody tr th:only-of-type {\n",
       "        vertical-align: middle;\n",
       "    }\n",
       "\n",
       "    .dataframe tbody tr th {\n",
       "        vertical-align: top;\n",
       "    }\n",
       "\n",
       "    .dataframe thead th {\n",
       "        text-align: right;\n",
       "    }\n",
       "</style>\n",
       "<table border=\"1\" class=\"dataframe\">\n",
       "  <thead>\n",
       "    <tr style=\"text-align: right;\">\n",
       "      <th></th>\n",
       "      <th>CHANNEL07</th>\n",
       "      <th>CHANNEL04</th>\n",
       "      <th>CHANNEL08</th>\n",
       "      <th>CHANNEL05</th>\n",
       "      <th>CHANNEL01</th>\n",
       "      <th>CHANNEL03</th>\n",
       "      <th>CHANNEL09</th>\n",
       "      <th>CHANNEL02</th>\n",
       "      <th>CHANNEL10</th>\n",
       "      <th>X-Axis</th>\n",
       "      <th>CHANNEL06</th>\n",
       "    </tr>\n",
       "  </thead>\n",
       "  <tbody>\n",
       "    <tr>\n",
       "      <th>0</th>\n",
       "      <td>-0.091161</td>\n",
       "      <td>-5.878347</td>\n",
       "      <td>0.561772</td>\n",
       "      <td>-6.173715</td>\n",
       "      <td>2.033482</td>\n",
       "      <td>-2.484555</td>\n",
       "      <td>-0.493237</td>\n",
       "      <td>1.572452</td>\n",
       "      <td>0.134042</td>\n",
       "      <td>150.5</td>\n",
       "      <td>-0.507207</td>\n",
       "    </tr>\n",
       "    <tr>\n",
       "      <th>1</th>\n",
       "      <td>-0.005778</td>\n",
       "      <td>-1.708884</td>\n",
       "      <td>0.118132</td>\n",
       "      <td>-2.782520</td>\n",
       "      <td>0.608447</td>\n",
       "      <td>0.249813</td>\n",
       "      <td>-0.098518</td>\n",
       "      <td>0.869489</td>\n",
       "      <td>0.209468</td>\n",
       "      <td>450.5</td>\n",
       "      <td>1.304246</td>\n",
       "    </tr>\n",
       "    <tr>\n",
       "      <th>2</th>\n",
       "      <td>13.052037</td>\n",
       "      <td>-35.824703</td>\n",
       "      <td>2.176469</td>\n",
       "      <td>-192.037323</td>\n",
       "      <td>50.933001</td>\n",
       "      <td>-3.126045</td>\n",
       "      <td>0.549257</td>\n",
       "      <td>3.457664</td>\n",
       "      <td>32.125834</td>\n",
       "      <td>750.5</td>\n",
       "      <td>682.609607</td>\n",
       "    </tr>\n",
       "    <tr>\n",
       "      <th>3</th>\n",
       "      <td>19.839018</td>\n",
       "      <td>525.902604</td>\n",
       "      <td>-115.802884</td>\n",
       "      <td>3312.393145</td>\n",
       "      <td>299.601570</td>\n",
       "      <td>64.527522</td>\n",
       "      <td>12.535046</td>\n",
       "      <td>74.784227</td>\n",
       "      <td>5.232094</td>\n",
       "      <td>1050.5</td>\n",
       "      <td>1011.025739</td>\n",
       "    </tr>\n",
       "    <tr>\n",
       "      <th>4</th>\n",
       "      <td>-25.929694</td>\n",
       "      <td>4768.171827</td>\n",
       "      <td>135.666250</td>\n",
       "      <td>-358.575736</td>\n",
       "      <td>183.162936</td>\n",
       "      <td>92.949829</td>\n",
       "      <td>99.840690</td>\n",
       "      <td>116.349140</td>\n",
       "      <td>-54.449941</td>\n",
       "      <td>1351.0</td>\n",
       "      <td>-1191.045066</td>\n",
       "    </tr>\n",
       "  </tbody>\n",
       "</table>\n",
       "</div>"
      ],
      "text/plain": [
       "   CHANNEL07    CHANNEL04   CHANNEL08    CHANNEL05   CHANNEL01  CHANNEL03  \\\n",
       "0  -0.091161    -5.878347    0.561772    -6.173715    2.033482  -2.484555   \n",
       "1  -0.005778    -1.708884    0.118132    -2.782520    0.608447   0.249813   \n",
       "2  13.052037   -35.824703    2.176469  -192.037323   50.933001  -3.126045   \n",
       "3  19.839018   525.902604 -115.802884  3312.393145  299.601570  64.527522   \n",
       "4 -25.929694  4768.171827  135.666250  -358.575736  183.162936  92.949829   \n",
       "\n",
       "   CHANNEL09   CHANNEL02  CHANNEL10  X-Axis    CHANNEL06  \n",
       "0  -0.493237    1.572452   0.134042   150.5    -0.507207  \n",
       "1  -0.098518    0.869489   0.209468   450.5     1.304246  \n",
       "2   0.549257    3.457664  32.125834   750.5   682.609607  \n",
       "3  12.535046   74.784227   5.232094  1050.5  1011.025739  \n",
       "4  99.840690  116.349140 -54.449941  1351.0 -1191.045066  "
      ]
     },
     "execution_count": 12,
     "metadata": {},
     "output_type": "execute_result"
    }
   ],
   "source": [
    "\n",
    "values_to_pandas(pvl.avg).head()\n"
   ]
  },
  {
   "cell_type": "markdown",
   "metadata": {},
   "source": [
    "## Close the session"
   ]
  },
  {
   "cell_type": "markdown",
   "metadata": {},
   "source": [
    "It is important to close the session to make sure the license bound to the session is freed."
   ]
  },
  {
   "cell_type": "code",
   "execution_count": 13,
   "metadata": {},
   "outputs": [],
   "source": [
    "r = session.get(f'{base_url}/mdm/logout')\n",
    "r.raise_for_status()\n",
    "session.close()"
   ]
  },
  {
   "cell_type": "markdown",
   "metadata": {},
   "source": [
    "## License\n",
    "\n",
    "Copyright © 2024 [Peak Solution GmbH](https://peak-solution.de)\n",
    "\n",
    "The training material in this repository is licensed under a Creative Commons BY-NC-SA 4.0 license. See [LICENSE](../LICENSE) file for more information."
   ]
  }
 ],
 "metadata": {
  "kernelspec": {
   "display_name": "Python 3.10.5 64-bit",
   "language": "python",
   "name": "python3"
  },
  "language_info": {
   "codemirror_mode": {
    "name": "ipython",
    "version": 3
   },
   "file_extension": ".py",
   "mimetype": "text/x-python",
   "name": "python",
   "nbconvert_exporter": "python",
   "pygments_lexer": "ipython3",
   "version": "3.11.6"
  },
  "vscode": {
   "interpreter": {
    "hash": "369f2c481f4da34e4445cda3fffd2e751bd1c4d706f27375911949ba6bb62e1c"
   }
  }
 },
 "nbformat": 4,
 "nbformat_minor": 2
}
