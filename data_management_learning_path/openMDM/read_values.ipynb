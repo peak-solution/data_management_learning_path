{
 "cells": [
  {
   "cell_type": "markdown",
   "metadata": {},
   "source": [
    "# Load openMDM Measurement Data (Time Series)\n",
    "\n",
    "In this example Notebook, we show you how to load time series (channel) data from your openMDM Server.\n",
    "\n",
    "The first sections are on initializing and connecting. The fun starts with \"Load Measurement\".\n"
   ]
  },
  {
   "cell_type": "markdown",
   "metadata": {},
   "source": [
    "Configure the base_url to your openMDM installation. \n",
    "You can then open the **Web client** to explore your data interactively or open the **swagger OpenAPI contract** to inspect the API. "
   ]
  },
  {
   "cell_type": "code",
   "execution_count": 1,
   "metadata": {},
   "outputs": [
    {
     "name": "stdout",
     "output_type": "stream",
     "text": [
      "Web Client: https://docker.peak-solution.de:10031/org.eclipse.mdm.nucleus\n",
      "OpenAPI: https://docker.peak-solution.de:10031/org.eclipse.mdm.nucleus/swagger.html\n"
     ]
    }
   ],
   "source": [
    "#base_url ='http://docker.peaksolution.local:82/org.eclipse.mdm.nucleus'\n",
    "base_url ='https://docker.peak-solution.de:10031/org.eclipse.mdm.nucleus'\n",
    "\n",
    "\n",
    "print(f\"Web Client: {base_url}\")\n",
    "print(f\"OpenAPI: {base_url}/swagger.html\")"
   ]
  },
  {
   "cell_type": "markdown",
   "metadata": {},
   "source": [
    "## Dependencies for this notebook"
   ]
  },
  {
   "cell_type": "code",
   "execution_count": 2,
   "metadata": {},
   "outputs": [],
   "source": [
    "import requests\n",
    "import sys\n",
    "import json\n",
    "import mdm_pb2 as mdm\n",
    "from google.protobuf.timestamp_pb2 import Timestamp\n"
   ]
  },
  {
   "cell_type": "markdown",
   "metadata": {},
   "source": [
    "## Establish session"
   ]
  },
  {
   "cell_type": "code",
   "execution_count": 3,
   "metadata": {},
   "outputs": [],
   "source": [
    "\n",
    "# login at glassfish http interface with form based authentication\n",
    "session = requests.Session()\n",
    "session.headers={'Content-Type': 'application/json', 'Accept': 'application/json'}\n",
    "\n",
    "r = session.post(base_url + '/j_security_check', data={'j_username': 'Demo', 'j_password': 'mdm'}, headers={'Content-Type': 'application/x-www-form-urlencoded'})\n",
    "\n",
    "r.raise_for_status() # throw if failed"
   ]
  },
  {
   "cell_type": "markdown",
   "metadata": {},
   "source": [
    "The openMDM API is a session based API. The session object contains the session cookie. Close this session to release the connection license. Otherwise the session will be auto closed after 30 minutes of inactivity."
   ]
  },
  {
   "cell_type": "markdown",
   "metadata": {},
   "source": [
    "## Select a Data Source\n",
    "\n",
    "List all available data sources and select one to go on."
   ]
  },
  {
   "cell_type": "code",
   "execution_count": 4,
   "metadata": {},
   "outputs": [
    {
     "name": "stdout",
     "output_type": "stream",
     "text": [
      "['NVHDEMO', 'CRASHDEMO', 'BLANKDEMO', 'ADASDEMO', 'FDXDEMO']\n"
     ]
    },
    {
     "data": {
      "text/plain": [
       "'NVHDEMO'"
      ]
     },
     "execution_count": 4,
     "metadata": {},
     "output_type": "execute_result"
    }
   ],
   "source": [
    "r = session.get(f'{base_url}/mdm/datasources')\n",
    "r.raise_for_status() # throw if failed\n",
    "print(r.json())\n",
    "\n",
    "SOURCENAME=r.json()[0]\n",
    "SOURCENAME"
   ]
  },
  {
   "cell_type": "markdown",
   "metadata": {},
   "source": [
    "## 📊 Load Measurement \n",
    "\n",
    "Measurement (or time series) data is contained in a structure called 'ChannelGroup' (SubMatrix) containing the individual channels (columns) of the measurement.\n",
    "\n",
    "\n",
    "In the example below the ChannelGroups related to a specific Measurement (in our example named 'Channel') are requested from the server and the first ChannelGroup of that list is selected for further data exploration."
   ]
  },
  {
   "cell_type": "code",
   "execution_count": 5,
   "metadata": {},
   "outputs": [
    {
     "name": "stdout",
     "output_type": "stream",
     "text": [
      "{\"type\":\"ChannelGroup\",\"data\":[{\"name\":\"Channel\",\"id\":\"3\",\"type\":\"ChannelGroup\",\"sourceType\":\"SubMatrix\",\"sourceName\":\"NVHDEMO\",\"attributes\":[{\"name\":\"MimeType\",\"value\":\"application/x-asam.aosubmatrix\",\"unit\":\"\",\"dataType\":\"STRING\"},{\"name\":\"SubMatrixNoRows\",\"value\":\"3001\",\"unit\":\"\",\"dataType\":\"INTEGER\"},{\"name\":\"Name\",\"value\":\"Channel\",\"unit\":\"\",\"dataType\":\"STRING\"}],\"relations\":[]},{\"name\":\"Channel\",\"id\":\"2000\",\"type\":\"ChannelGroup\",\"sourceType\":\"SubMatrix\",\"sourceName\":\"NVHDEMO\",\"attributes\":[{\"name\":\"MimeType\",\"value\":\"application/x-asam.aosubmatrix\",\"unit\":\"\",\"dataType\":\"STRING\"},{\"name\":\"SubMatrixNoRows\",\"value\":\"3001\",\"unit\":\"\",\"dataType\":\"INTEGER\"},{\"name\":\"Name\",\"value\":\"Channel\",\"unit\":\"\",\"dataType\":\"STRING\"}],\"relations\":[]}]}\n"
     ]
    },
    {
     "data": {
      "text/plain": [
       "'3'"
      ]
     },
     "execution_count": 5,
     "metadata": {},
     "output_type": "execute_result"
    }
   ],
   "source": [
    "# request channelGroups\n",
    "r = session.get(f'{base_url}/mdm/environments/{SOURCENAME}/channelgroups',\n",
    "        params={'filter' : \"Measurement.Name eq 'Channel'\"})\n",
    "r.raise_for_status()\n",
    "print(r.text)\n",
    "channelGroup = r.json()\n",
    "channelGroup['data'][0]['id']\n"
   ]
  },
  {
   "cell_type": "markdown",
   "metadata": {},
   "source": [
    "Now let's query the measurement data from that ChannelGroup:"
   ]
  },
  {
   "cell_type": "code",
   "execution_count": 6,
   "metadata": {},
   "outputs": [],
   "source": [
    "\n",
    "# create a ReadRequest Protobuf Object\n",
    "readRequest = mdm.ReadRequest(\n",
    "        channel_group_id = channelGroup['data'][0]['id'],\n",
    "        values_mode = mdm.ValuesMode.Value('CALCULATED') )\n",
    "\n",
    "# Post the ReadRequest to the backend\n",
    "r = session.post(f'{base_url}/mdm/environments/{SOURCENAME}/values/read',\n",
    "        headers={'Content-Type': 'application/protobuf', 'Accept': 'application/protobuf'}, \n",
    "        data=readRequest.SerializeToString())\n",
    "r.raise_for_status()\n",
    "# Parse result\n",
    "mvl = mdm.MeasuredValuesList()\n",
    "_ = mvl.ParseFromString(r.content)"
   ]
  },
  {
   "cell_type": "markdown",
   "metadata": {},
   "source": [
    "For better usage of the protobuf data we provide a method to copy the content into a pandas dataframe:"
   ]
  },
  {
   "cell_type": "code",
   "execution_count": 7,
   "metadata": {},
   "outputs": [],
   "source": [
    "import pandas as pd\n",
    "import numpy as np\n",
    "\n",
    "def values_to_pandas(values):\n",
    "    data = {}\n",
    "    for value in values:\n",
    "        if value.scalar_type == mdm.ScalarType.DOUBLE:\n",
    "            data[value.name] = np.array(value.double_array.values)\n",
    "        if value.scalar_type == mdm.ScalarType.FLOAT:\n",
    "            data[value.name] = np.array(value.float_array.values)\n",
    "        elif value.scalar_type == mdm.ScalarType.INTEGER:\n",
    "            data[value.name] = np.array(value.integer_array.values)\n",
    "    return pd.DataFrame(data)"
   ]
  },
  {
   "cell_type": "markdown",
   "metadata": {},
   "source": [
    "And now we can easily plot the content:😊"
   ]
  },
  {
   "cell_type": "code",
   "execution_count": 8,
   "metadata": {},
   "outputs": [
    {
     "data": {
      "text/html": [
       "<div>\n",
       "<style scoped>\n",
       "    .dataframe tbody tr th:only-of-type {\n",
       "        vertical-align: middle;\n",
       "    }\n",
       "\n",
       "    .dataframe tbody tr th {\n",
       "        vertical-align: top;\n",
       "    }\n",
       "\n",
       "    .dataframe thead th {\n",
       "        text-align: right;\n",
       "    }\n",
       "</style>\n",
       "<table border=\"1\" class=\"dataframe\">\n",
       "  <thead>\n",
       "    <tr style=\"text-align: right;\">\n",
       "      <th></th>\n",
       "      <th>X-Axis</th>\n",
       "      <th>CHANNEL05</th>\n",
       "      <th>CHANNEL08</th>\n",
       "      <th>CHANNEL03</th>\n",
       "      <th>CHANNEL01</th>\n",
       "      <th>CHANNEL06</th>\n",
       "      <th>CHANNEL04</th>\n",
       "      <th>CHANNEL07</th>\n",
       "      <th>CHANNEL02</th>\n",
       "      <th>CHANNEL09</th>\n",
       "      <th>CHANNEL10</th>\n",
       "    </tr>\n",
       "  </thead>\n",
       "  <tbody>\n",
       "    <tr>\n",
       "      <th>0</th>\n",
       "      <td>1</td>\n",
       "      <td>0.000002</td>\n",
       "      <td>0.770431</td>\n",
       "      <td>-4.44111</td>\n",
       "      <td>0.000004</td>\n",
       "      <td>-1.746230e-07</td>\n",
       "      <td>-4.51025</td>\n",
       "      <td>-0.192593</td>\n",
       "      <td>2.027780</td>\n",
       "      <td>-0.579521</td>\n",
       "      <td>0.371926</td>\n",
       "    </tr>\n",
       "    <tr>\n",
       "      <th>1</th>\n",
       "      <td>2</td>\n",
       "      <td>0.000002</td>\n",
       "      <td>0.770431</td>\n",
       "      <td>-2.03551</td>\n",
       "      <td>0.000004</td>\n",
       "      <td>-1.746230e-07</td>\n",
       "      <td>-4.51025</td>\n",
       "      <td>-0.192593</td>\n",
       "      <td>2.027780</td>\n",
       "      <td>-0.579521</td>\n",
       "      <td>0.371926</td>\n",
       "    </tr>\n",
       "    <tr>\n",
       "      <th>2</th>\n",
       "      <td>3</td>\n",
       "      <td>-6.521530</td>\n",
       "      <td>0.770431</td>\n",
       "      <td>-4.44111</td>\n",
       "      <td>0.000004</td>\n",
       "      <td>-1.746230e-07</td>\n",
       "      <td>-4.51025</td>\n",
       "      <td>-0.192593</td>\n",
       "      <td>2.027780</td>\n",
       "      <td>-0.579521</td>\n",
       "      <td>0.371926</td>\n",
       "    </tr>\n",
       "    <tr>\n",
       "      <th>3</th>\n",
       "      <td>4</td>\n",
       "      <td>-6.521530</td>\n",
       "      <td>0.770431</td>\n",
       "      <td>-4.44111</td>\n",
       "      <td>2.401750</td>\n",
       "      <td>-1.746230e-07</td>\n",
       "      <td>2.00455</td>\n",
       "      <td>-0.192593</td>\n",
       "      <td>2.027780</td>\n",
       "      <td>-0.579521</td>\n",
       "      <td>0.371926</td>\n",
       "    </tr>\n",
       "    <tr>\n",
       "      <th>4</th>\n",
       "      <td>5</td>\n",
       "      <td>-6.521530</td>\n",
       "      <td>0.770431</td>\n",
       "      <td>-4.44111</td>\n",
       "      <td>0.000004</td>\n",
       "      <td>-1.746230e-07</td>\n",
       "      <td>2.00455</td>\n",
       "      <td>-0.192593</td>\n",
       "      <td>-0.368683</td>\n",
       "      <td>-0.579521</td>\n",
       "      <td>0.371926</td>\n",
       "    </tr>\n",
       "  </tbody>\n",
       "</table>\n",
       "</div>"
      ],
      "text/plain": [
       "   X-Axis  CHANNEL05  CHANNEL08  CHANNEL03  CHANNEL01     CHANNEL06  \\\n",
       "0       1   0.000002   0.770431   -4.44111   0.000004 -1.746230e-07   \n",
       "1       2   0.000002   0.770431   -2.03551   0.000004 -1.746230e-07   \n",
       "2       3  -6.521530   0.770431   -4.44111   0.000004 -1.746230e-07   \n",
       "3       4  -6.521530   0.770431   -4.44111   2.401750 -1.746230e-07   \n",
       "4       5  -6.521530   0.770431   -4.44111   0.000004 -1.746230e-07   \n",
       "\n",
       "   CHANNEL04  CHANNEL07  CHANNEL02  CHANNEL09  CHANNEL10  \n",
       "0   -4.51025  -0.192593   2.027780  -0.579521   0.371926  \n",
       "1   -4.51025  -0.192593   2.027780  -0.579521   0.371926  \n",
       "2   -4.51025  -0.192593   2.027780  -0.579521   0.371926  \n",
       "3    2.00455  -0.192593   2.027780  -0.579521   0.371926  \n",
       "4    2.00455  -0.192593  -0.368683  -0.579521   0.371926  "
      ]
     },
     "execution_count": 8,
     "metadata": {},
     "output_type": "execute_result"
    }
   ],
   "source": [
    "mvl_df = values_to_pandas(mvl.values)\n",
    "mvl_df.head()"
   ]
  },
  {
   "cell_type": "markdown",
   "metadata": {},
   "source": [
    "## Load Aggregates of Measurement Data\n",
    "\n",
    "If we have lots of values in our measurement we can chunk the data and retrieve\n",
    "- Minimum (min)\n",
    "- Maximum (max)\n",
    "- Average (avg)\n",
    "\n",
    "Which can be used for preview or statistical analysis of the data."
   ]
  },
  {
   "cell_type": "code",
   "execution_count": 9,
   "metadata": {},
   "outputs": [],
   "source": [
    "# create a PreviewRequest Protobuf Object with 10 chunks\n",
    "previewRequest = mdm.PreviewRequest(\n",
    "    read_request = readRequest,\n",
    "    number_of_chunks = 10)\n",
    "\n",
    "# Post the PreviewRequest to the backend\n",
    "r = session.post(f'{base_url}/mdm/environments/{SOURCENAME}/values/preview',\n",
    "        headers={'Content-Type': 'application/protobuf', 'Accept': 'application/protobuf'}, \n",
    "        data=previewRequest.SerializeToString())\n",
    "r.raise_for_status()\n",
    "pvl = mdm.PreviewValuesList()\n",
    "_ = pvl.ParseFromString(r.content)\n"
   ]
  },
  {
   "cell_type": "markdown",
   "metadata": {},
   "source": [
    "### Minimum"
   ]
  },
  {
   "cell_type": "code",
   "execution_count": 10,
   "metadata": {},
   "outputs": [
    {
     "data": {
      "text/html": [
       "<div>\n",
       "<style scoped>\n",
       "    .dataframe tbody tr th:only-of-type {\n",
       "        vertical-align: middle;\n",
       "    }\n",
       "\n",
       "    .dataframe tbody tr th {\n",
       "        vertical-align: top;\n",
       "    }\n",
       "\n",
       "    .dataframe thead th {\n",
       "        text-align: right;\n",
       "    }\n",
       "</style>\n",
       "<table border=\"1\" class=\"dataframe\">\n",
       "  <thead>\n",
       "    <tr style=\"text-align: right;\">\n",
       "      <th></th>\n",
       "      <th>X-Axis</th>\n",
       "      <th>CHANNEL05</th>\n",
       "      <th>CHANNEL08</th>\n",
       "      <th>CHANNEL03</th>\n",
       "      <th>CHANNEL01</th>\n",
       "      <th>CHANNEL06</th>\n",
       "      <th>CHANNEL04</th>\n",
       "      <th>CHANNEL07</th>\n",
       "      <th>CHANNEL02</th>\n",
       "      <th>CHANNEL09</th>\n",
       "      <th>CHANNEL10</th>\n",
       "    </tr>\n",
       "  </thead>\n",
       "  <tbody>\n",
       "    <tr>\n",
       "      <th>0</th>\n",
       "      <td>1.0</td>\n",
       "      <td>-13.0431</td>\n",
       "      <td>-2.384190e-07</td>\n",
       "      <td>-4.44111</td>\n",
       "      <td>0.000004</td>\n",
       "      <td>-5.434360e+00</td>\n",
       "      <td>-11.025</td>\n",
       "      <td>-0.385186</td>\n",
       "      <td>-0.368683</td>\n",
       "      <td>-0.772695</td>\n",
       "      <td>-0.401679</td>\n",
       "    </tr>\n",
       "    <tr>\n",
       "      <th>1</th>\n",
       "      <td>301.0</td>\n",
       "      <td>-19.5646</td>\n",
       "      <td>-1.926080e-01</td>\n",
       "      <td>-2.03551</td>\n",
       "      <td>0.000004</td>\n",
       "      <td>-1.746230e-07</td>\n",
       "      <td>-11.025</td>\n",
       "      <td>-0.192593</td>\n",
       "      <td>-0.368683</td>\n",
       "      <td>-0.386347</td>\n",
       "      <td>-0.401679</td>\n",
       "    </tr>\n",
       "    <tr>\n",
       "      <th>2</th>\n",
       "      <td>601.0</td>\n",
       "      <td>-815.1910</td>\n",
       "      <td>-8.378440e+01</td>\n",
       "      <td>-21.28030</td>\n",
       "      <td>7.205240</td>\n",
       "      <td>5.434360e+00</td>\n",
       "      <td>-206.469</td>\n",
       "      <td>-8.088910</td>\n",
       "      <td>-7.558060</td>\n",
       "      <td>-15.453900</td>\n",
       "      <td>2.112540</td>\n",
       "    </tr>\n",
       "    <tr>\n",
       "      <th>3</th>\n",
       "      <td>901.0</td>\n",
       "      <td>-332.5980</td>\n",
       "      <td>-2.546280e+02</td>\n",
       "      <td>-26.09160</td>\n",
       "      <td>115.284000</td>\n",
       "      <td>5.434360e+00</td>\n",
       "      <td>-134.806</td>\n",
       "      <td>-3.466680</td>\n",
       "      <td>-319.098000</td>\n",
       "      <td>-15.260700</td>\n",
       "      <td>-44.884000</td>\n",
       "    </tr>\n",
       "    <tr>\n",
       "      <th>4</th>\n",
       "      <td>1201.0</td>\n",
       "      <td>-619.5450</td>\n",
       "      <td>7.453920e+01</td>\n",
       "      <td>67.72700</td>\n",
       "      <td>52.838400</td>\n",
       "      <td>-1.695520e+03</td>\n",
       "      <td>2666.560</td>\n",
       "      <td>-38.518600</td>\n",
       "      <td>54.749800</td>\n",
       "      <td>39.793800</td>\n",
       "      <td>-147.580000</td>\n",
       "    </tr>\n",
       "  </tbody>\n",
       "</table>\n",
       "</div>"
      ],
      "text/plain": [
       "   X-Axis  CHANNEL05     CHANNEL08  CHANNEL03   CHANNEL01     CHANNEL06  \\\n",
       "0     1.0   -13.0431 -2.384190e-07   -4.44111    0.000004 -5.434360e+00   \n",
       "1   301.0   -19.5646 -1.926080e-01   -2.03551    0.000004 -1.746230e-07   \n",
       "2   601.0  -815.1910 -8.378440e+01  -21.28030    7.205240  5.434360e+00   \n",
       "3   901.0  -332.5980 -2.546280e+02  -26.09160  115.284000  5.434360e+00   \n",
       "4  1201.0  -619.5450  7.453920e+01   67.72700   52.838400 -1.695520e+03   \n",
       "\n",
       "   CHANNEL04  CHANNEL07   CHANNEL02  CHANNEL09   CHANNEL10  \n",
       "0    -11.025  -0.385186   -0.368683  -0.772695   -0.401679  \n",
       "1    -11.025  -0.192593   -0.368683  -0.386347   -0.401679  \n",
       "2   -206.469  -8.088910   -7.558060 -15.453900    2.112540  \n",
       "3   -134.806  -3.466680 -319.098000 -15.260700  -44.884000  \n",
       "4   2666.560 -38.518600   54.749800  39.793800 -147.580000  "
      ]
     },
     "execution_count": 10,
     "metadata": {},
     "output_type": "execute_result"
    }
   ],
   "source": [
    "\n",
    "values_to_pandas(pvl.min).head()\n"
   ]
  },
  {
   "cell_type": "markdown",
   "metadata": {},
   "source": [
    "### Maximum"
   ]
  },
  {
   "cell_type": "code",
   "execution_count": 11,
   "metadata": {},
   "outputs": [
    {
     "data": {
      "text/html": [
       "<div>\n",
       "<style scoped>\n",
       "    .dataframe tbody tr th:only-of-type {\n",
       "        vertical-align: middle;\n",
       "    }\n",
       "\n",
       "    .dataframe tbody tr th {\n",
       "        vertical-align: top;\n",
       "    }\n",
       "\n",
       "    .dataframe thead th {\n",
       "        text-align: right;\n",
       "    }\n",
       "</style>\n",
       "<table border=\"1\" class=\"dataframe\">\n",
       "  <thead>\n",
       "    <tr style=\"text-align: right;\">\n",
       "      <th></th>\n",
       "      <th>X-Axis</th>\n",
       "      <th>CHANNEL05</th>\n",
       "      <th>CHANNEL08</th>\n",
       "      <th>CHANNEL03</th>\n",
       "      <th>CHANNEL01</th>\n",
       "      <th>CHANNEL06</th>\n",
       "      <th>CHANNEL04</th>\n",
       "      <th>CHANNEL07</th>\n",
       "      <th>CHANNEL02</th>\n",
       "      <th>CHANNEL09</th>\n",
       "      <th>CHANNEL10</th>\n",
       "    </tr>\n",
       "  </thead>\n",
       "  <tbody>\n",
       "    <tr>\n",
       "      <th>0</th>\n",
       "      <td>300.0</td>\n",
       "      <td>1.862650e-06</td>\n",
       "      <td>0.770431</td>\n",
       "      <td>0.370093</td>\n",
       "      <td>2.40175</td>\n",
       "      <td>4.940656e-324</td>\n",
       "      <td>2.00455</td>\n",
       "      <td>4.940656e-324</td>\n",
       "      <td>2.02778</td>\n",
       "      <td>4.940656e-324</td>\n",
       "      <td>0.371926</td>\n",
       "    </tr>\n",
       "    <tr>\n",
       "      <th>1</th>\n",
       "      <td>600.0</td>\n",
       "      <td>1.862650e-06</td>\n",
       "      <td>1.348250</td>\n",
       "      <td>0.370093</td>\n",
       "      <td>4.80350</td>\n",
       "      <td>5.434360e+00</td>\n",
       "      <td>2.00455</td>\n",
       "      <td>1.925930e-01</td>\n",
       "      <td>6.82069</td>\n",
       "      <td>8.940700e-08</td>\n",
       "      <td>2.112540</td>\n",
       "    </tr>\n",
       "    <tr>\n",
       "      <th>2</th>\n",
       "      <td>900.0</td>\n",
       "      <td>4.940656e-324</td>\n",
       "      <td>27.350300</td>\n",
       "      <td>9.992470</td>\n",
       "      <td>112.88200</td>\n",
       "      <td>2.967160e+03</td>\n",
       "      <td>184.41900</td>\n",
       "      <td>8.512620e+01</td>\n",
       "      <td>28.38880</td>\n",
       "      <td>3.805520e+01</td>\n",
       "      <td>94.364900</td>\n",
       "    </tr>\n",
       "    <tr>\n",
       "      <th>3</th>\n",
       "      <td>1200.0</td>\n",
       "      <td>1.093660e+04</td>\n",
       "      <td>66.064500</td>\n",
       "      <td>180.790000</td>\n",
       "      <td>821.39600</td>\n",
       "      <td>3.706230e+03</td>\n",
       "      <td>2549.29000</td>\n",
       "      <td>8.512620e+01</td>\n",
       "      <td>265.63800</td>\n",
       "      <td>4.153240e+01</td>\n",
       "      <td>95.718700</td>\n",
       "    </tr>\n",
       "    <tr>\n",
       "      <th>4</th>\n",
       "      <td>1501.0</td>\n",
       "      <td>7.108470e+02</td>\n",
       "      <td>177.970000</td>\n",
       "      <td>127.867000</td>\n",
       "      <td>403.49300</td>\n",
       "      <td>4.940656e-324</td>\n",
       "      <td>5735.02000</td>\n",
       "      <td>4.237050e+00</td>\n",
       "      <td>280.01700</td>\n",
       "      <td>1.400510e+02</td>\n",
       "      <td>19.518600</td>\n",
       "    </tr>\n",
       "  </tbody>\n",
       "</table>\n",
       "</div>"
      ],
      "text/plain": [
       "   X-Axis      CHANNEL05   CHANNEL08   CHANNEL03  CHANNEL01      CHANNEL06  \\\n",
       "0   300.0   1.862650e-06    0.770431    0.370093    2.40175  4.940656e-324   \n",
       "1   600.0   1.862650e-06    1.348250    0.370093    4.80350   5.434360e+00   \n",
       "2   900.0  4.940656e-324   27.350300    9.992470  112.88200   2.967160e+03   \n",
       "3  1200.0   1.093660e+04   66.064500  180.790000  821.39600   3.706230e+03   \n",
       "4  1501.0   7.108470e+02  177.970000  127.867000  403.49300  4.940656e-324   \n",
       "\n",
       "    CHANNEL04      CHANNEL07  CHANNEL02      CHANNEL09  CHANNEL10  \n",
       "0     2.00455  4.940656e-324    2.02778  4.940656e-324   0.371926  \n",
       "1     2.00455   1.925930e-01    6.82069   8.940700e-08   2.112540  \n",
       "2   184.41900   8.512620e+01   28.38880   3.805520e+01  94.364900  \n",
       "3  2549.29000   8.512620e+01  265.63800   4.153240e+01  95.718700  \n",
       "4  5735.02000   4.237050e+00  280.01700   1.400510e+02  19.518600  "
      ]
     },
     "execution_count": 11,
     "metadata": {},
     "output_type": "execute_result"
    }
   ],
   "source": [
    "\n",
    "values_to_pandas(pvl.max).head()\n"
   ]
  },
  {
   "cell_type": "markdown",
   "metadata": {},
   "source": [
    "### Average"
   ]
  },
  {
   "cell_type": "code",
   "execution_count": 12,
   "metadata": {},
   "outputs": [
    {
     "data": {
      "text/html": [
       "<div>\n",
       "<style scoped>\n",
       "    .dataframe tbody tr th:only-of-type {\n",
       "        vertical-align: middle;\n",
       "    }\n",
       "\n",
       "    .dataframe tbody tr th {\n",
       "        vertical-align: top;\n",
       "    }\n",
       "\n",
       "    .dataframe thead th {\n",
       "        text-align: right;\n",
       "    }\n",
       "</style>\n",
       "<table border=\"1\" class=\"dataframe\">\n",
       "  <thead>\n",
       "    <tr style=\"text-align: right;\">\n",
       "      <th></th>\n",
       "      <th>X-Axis</th>\n",
       "      <th>CHANNEL05</th>\n",
       "      <th>CHANNEL08</th>\n",
       "      <th>CHANNEL03</th>\n",
       "      <th>CHANNEL01</th>\n",
       "      <th>CHANNEL06</th>\n",
       "      <th>CHANNEL04</th>\n",
       "      <th>CHANNEL07</th>\n",
       "      <th>CHANNEL02</th>\n",
       "      <th>CHANNEL09</th>\n",
       "      <th>CHANNEL10</th>\n",
       "    </tr>\n",
       "  </thead>\n",
       "  <tbody>\n",
       "    <tr>\n",
       "      <th>0</th>\n",
       "      <td>150.5</td>\n",
       "      <td>-6.173715</td>\n",
       "      <td>0.561772</td>\n",
       "      <td>-2.484555</td>\n",
       "      <td>2.033482</td>\n",
       "      <td>-0.507207</td>\n",
       "      <td>-5.878347</td>\n",
       "      <td>-0.091161</td>\n",
       "      <td>1.572452</td>\n",
       "      <td>-0.493237</td>\n",
       "      <td>0.134042</td>\n",
       "    </tr>\n",
       "    <tr>\n",
       "      <th>1</th>\n",
       "      <td>450.5</td>\n",
       "      <td>-2.782520</td>\n",
       "      <td>0.118132</td>\n",
       "      <td>0.249813</td>\n",
       "      <td>0.608447</td>\n",
       "      <td>1.304246</td>\n",
       "      <td>-1.708884</td>\n",
       "      <td>-0.005778</td>\n",
       "      <td>0.869489</td>\n",
       "      <td>-0.098518</td>\n",
       "      <td>0.209468</td>\n",
       "    </tr>\n",
       "    <tr>\n",
       "      <th>2</th>\n",
       "      <td>750.5</td>\n",
       "      <td>-192.037323</td>\n",
       "      <td>2.176469</td>\n",
       "      <td>-3.126045</td>\n",
       "      <td>50.933001</td>\n",
       "      <td>682.609607</td>\n",
       "      <td>-35.824703</td>\n",
       "      <td>13.052037</td>\n",
       "      <td>3.457664</td>\n",
       "      <td>0.549257</td>\n",
       "      <td>32.125834</td>\n",
       "    </tr>\n",
       "    <tr>\n",
       "      <th>3</th>\n",
       "      <td>1050.5</td>\n",
       "      <td>3312.393145</td>\n",
       "      <td>-115.802884</td>\n",
       "      <td>64.527522</td>\n",
       "      <td>299.601570</td>\n",
       "      <td>1011.025739</td>\n",
       "      <td>525.902604</td>\n",
       "      <td>19.839018</td>\n",
       "      <td>74.784227</td>\n",
       "      <td>12.535046</td>\n",
       "      <td>5.232094</td>\n",
       "    </tr>\n",
       "    <tr>\n",
       "      <th>4</th>\n",
       "      <td>1351.0</td>\n",
       "      <td>-358.575736</td>\n",
       "      <td>135.666250</td>\n",
       "      <td>92.949829</td>\n",
       "      <td>183.162936</td>\n",
       "      <td>-1191.045066</td>\n",
       "      <td>4768.171827</td>\n",
       "      <td>-25.929694</td>\n",
       "      <td>116.349140</td>\n",
       "      <td>99.840690</td>\n",
       "      <td>-54.449941</td>\n",
       "    </tr>\n",
       "  </tbody>\n",
       "</table>\n",
       "</div>"
      ],
      "text/plain": [
       "   X-Axis    CHANNEL05   CHANNEL08  CHANNEL03   CHANNEL01    CHANNEL06  \\\n",
       "0   150.5    -6.173715    0.561772  -2.484555    2.033482    -0.507207   \n",
       "1   450.5    -2.782520    0.118132   0.249813    0.608447     1.304246   \n",
       "2   750.5  -192.037323    2.176469  -3.126045   50.933001   682.609607   \n",
       "3  1050.5  3312.393145 -115.802884  64.527522  299.601570  1011.025739   \n",
       "4  1351.0  -358.575736  135.666250  92.949829  183.162936 -1191.045066   \n",
       "\n",
       "     CHANNEL04  CHANNEL07   CHANNEL02  CHANNEL09  CHANNEL10  \n",
       "0    -5.878347  -0.091161    1.572452  -0.493237   0.134042  \n",
       "1    -1.708884  -0.005778    0.869489  -0.098518   0.209468  \n",
       "2   -35.824703  13.052037    3.457664   0.549257  32.125834  \n",
       "3   525.902604  19.839018   74.784227  12.535046   5.232094  \n",
       "4  4768.171827 -25.929694  116.349140  99.840690 -54.449941  "
      ]
     },
     "execution_count": 12,
     "metadata": {},
     "output_type": "execute_result"
    }
   ],
   "source": [
    "\n",
    "values_to_pandas(pvl.avg).head()\n"
   ]
  },
  {
   "cell_type": "markdown",
   "metadata": {},
   "source": [
    "## Close the session"
   ]
  },
  {
   "cell_type": "markdown",
   "metadata": {},
   "source": [
    "It is important to close the session to make sure the license bound to the session is freed."
   ]
  },
  {
   "cell_type": "code",
   "execution_count": 13,
   "metadata": {},
   "outputs": [],
   "source": [
    "r = session.get(f'{base_url}/mdm/logout')\n",
    "r.raise_for_status()\n",
    "session.close()"
   ]
  },
  {
   "cell_type": "markdown",
   "metadata": {},
   "source": [
    "## License\n",
    "\n",
    "Copyright © 2025 [Peak Solution GmbH](https://peak-solution.de)\n",
    "\n",
    "The training material in this repository is licensed under a Creative Commons BY-NC-SA 4.0 license. See [LICENSE](../LICENSE) file for more information."
   ]
  }
 ],
 "metadata": {
  "kernelspec": {
   "display_name": ".venv",
   "language": "python",
   "name": "python3"
  },
  "language_info": {
   "codemirror_mode": {
    "name": "ipython",
    "version": 3
   },
   "file_extension": ".py",
   "mimetype": "text/x-python",
   "name": "python",
   "nbconvert_exporter": "python",
   "pygments_lexer": "ipython3",
   "version": "3.11.6"
  }
 },
 "nbformat": 4,
 "nbformat_minor": 2
}
