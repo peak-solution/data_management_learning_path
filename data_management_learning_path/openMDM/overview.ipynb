{
 "cells": [
  {
   "cell_type": "markdown",
   "metadata": {},
   "source": [
    "# openMDM Overview\n"
   ]
  },
  {
   "cell_type": "markdown",
   "metadata": {},
   "source": [
    "## Introduction\n",
    "\n",
    "The scope of this documentation is highlighting some of the APIs and functionalities of openMDM.\n",
    "Please visit the [openMDM Eclipse project](https://openmdm.org/) for additional documentation.\n",
    "\n",
    "[openMDM](https://openmdm.org/overview/how-does-it-work/) is an extendable open source framework on top of the [ASAM ODS](https://www.asam.net/standards/detail/ods/wiki/) standard.\n",
    "\n",
    "![openMDM Overview](./images/openMDM_Overview.png)\n",
    "\n",
    "While ASAM ODS defines an independent, flexible but standardized physical storage for test and measurement data, openMDM adds additional functionality like:\n",
    "\n",
    "- Catalog and Template management to define a domain model without database expertise and IT involvement\n",
    "- Holistic view over several ASAM ODS server\n",
    "- Web browser for data engineers to\n",
    "  - query your test and measurement data\n",
    "  - quick view measurement data\n",
    "  - export data\n",
    "  - modify descriptive data\n",
    "- High-level REST API to deal with openMDM business objects\n",
    "- Full-text searching\n",
    "\n",
    "> Because openMDM is build on top of ASAM ODS the data is still accessible by pure ASAM ODS clients or scripts.\n"
   ]
  },
  {
   "cell_type": "markdown",
   "metadata": {},
   "source": [
    "## openMDM Architecture Overview\n",
    "\n",
    "![openMDM Architecture Overview](/images/mdm_architecture.png)"
   ]
  },
  {
   "cell_type": "markdown",
   "metadata": {},
   "source": [
    "## Test Data Management with openMDM\n",
    "\n",
    "OpenMDM is build on top of ASAM ODS to allow a more flexible data management.\n",
    "While most systems need IT involvement to extend, this system allows an administrative engineer to configure and extend the system.\n",
    "\n",
    "The elements of the given workflow will show up in the openMDM interfaces and APIs.\n",
    "Data Management is done using a hierarchical storage starting with Project.\n",
    "\n",
    "``` mermaid\n",
    "mindmap\n",
    "  root((📁TestStep))\n",
    "    (📖Ordered Context)\n",
    "    📁Test\n",
    "      📁Pool\n",
    "        📁Project\n",
    "    📊Measurement\n",
    "      (📖Measured Context)\n",
    "      📊ChannelGroup<br/>Submatrix\n",
    "        📈Channel\n",
    "```"
   ]
  },
  {
   "cell_type": "markdown",
   "metadata": {},
   "source": [
    "## Components and Templates\n",
    "\n",
    "Components and templates are used to create the domain model referenced by Tests, TestSteps and Measurements to define the _context_ of the data. The context is being composed of UnitUnderTest, TestEquipment and TestSequence.\n",
    "\n",
    "``` mermaid\n",
    "mindmap\n",
    "  root(📖Context)\n",
    "    🚗UnitUnderTest\n",
    "      🛞UUT_Component\n",
    "    🏭TestEquipment\n",
    "      🔬TE_Component\n",
    "    🔀TestSequence\n",
    "      ⏩TS_Component\n",
    "```\n",
    "\n",
    "You start defining the _context_ with the _Component Catalog_ which contains all building blocks of your domain model including their attributes. You use these catalog components to define the specific _Component templates_. You then combine these _Component templates_ to hierarchical _Component templates_-triplets, which can then be assigned to the individual _TestStep templates_. Finally, in the _Test templates_ you define which of the afore defined _TestStep templates_ can be used by an individual type of Test.\n",
    "\n",
    "![Templates of domain model](/images/domain_model.png)"
   ]
  },
  {
   "cell_type": "markdown",
   "metadata": {},
   "source": [
    "## Rest API\n",
    "\n",
    "The openMDM REST API is build to handle the openMDM business objects.\n",
    "\n",
    "The openMDM offers a swagger interface by attaching `/swagger.html` to the base url of the server.\n",
    "\n",
    "> 💡You can watch it work by using the Web browser with activated developer mode. Doing so you can watch the calls and copy content."
   ]
  },
  {
   "cell_type": "markdown",
   "metadata": {},
   "source": [
    "## Example Notebooks\n",
    "\n",
    "- **Notebook**: [📓 Query Instance Data](query_openmdm.ipynb)\n",
    "\n",
    "- **Notebook**: [📓 Read Channel Data](read_values.ipynb)"
   ]
  },
  {
   "cell_type": "markdown",
   "metadata": {},
   "source": [
    "## License\n",
    "\n",
    "Copyright © 2025 [Peak Solution GmbH](https://peak-solution.de)\n",
    "\n",
    "The training material in this repository is licensed under a Creative Commons BY-NC-SA 4.0 license. See [LICENSE](../LICENSE) file for more information."
   ]
  },
  {
   "cell_type": "markdown",
   "metadata": {},
   "source": [
    "**Notebook**: [📓 Back to course overview](../overview.ipynb)"
   ]
  }
 ],
 "metadata": {
  "language_info": {
   "name": "python"
  }
 },
 "nbformat": 4,
 "nbformat_minor": 2
}
