{
 "cells": [
  {
   "cell_type": "markdown",
   "metadata": {},
   "source": [
    "# Data Management Learning Path\n",
    "\n",
    "## About this curriculum\n",
    "\n",
    "In this collection of notebooks we will introduce and guide you through the major concepts of data management.\n",
    "The back end of our data management framework is based on the [ASAM ODS](https://www.asam.net/standards/detail/ods/wiki/) - such that you'll learn data management skills using an established standard.\n",
    "Even though ASAM ODS has its origins in the automotive industry, it can also be used in other industries such as aviation, white goods or land machineries - to only name a few.\n"
   ]
  },
  {
   "cell_type": "markdown",
   "metadata": {},
   "source": [
    "## Course outline\n",
    "\n",
    "**Work with ASAM ODS**\n",
    "\n",
    "* In the *first chapter* we explain how to [work with an ASAM ODS server](/ods/overview.ipynb) in general.\n",
    "\n",
    "\n",
    "**Work with openMDM**\n",
    "\n",
    "* In the *second chapter* we explain how to [work with openMDM](/openMDM/overview.ipynb) - an extendable open source framework on top of the ASAM ODS standard.\n",
    "\n",
    "**Work with EXD-API Plugins**\n",
    "\n",
    "* In the *third chapter* we address how to work with legacy data and ASAM ODS servers by using [EXD-API Plugins](/exd_api/overview.md).\n",
    "\n",
    "**Work with Apache Spark**\n",
    "\n",
    "* In the *forth chapter* we provide some basics how you can use [Apache Spark](/spark/overview.md) together with ASAM ODS and the ASAM ODS Big Data associated standard.  \n",
    "\n",
    "**Use the Notebooks**\n",
    "\n",
    "* *Data Management Learning Path* is based on [Jupyter Notebooks](https://jupyter.org/) such that you can interact and explore the content \"live\". You can find some hints and ideas how you can [use Notebooks](/notebooking/overview.md) in the *last chapter*.\n"
   ]
  },
  {
   "cell_type": "markdown",
   "metadata": {},
   "source": [
    "## Course materials\n",
    "\n",
    "You can find all Notebooks and examples in our GitHub repository: https://github.com/peak-solution/data_management_learning_path"
   ]
  },
  {
   "cell_type": "markdown",
   "metadata": {},
   "source": [
    "## Credits\n",
    "\n",
    "This project is created using the excellent open source [Jupyter Book project](https://jupyterbook.org/) and the [executablebooks/cookiecutter-jupyter-book template](https://github.com/executablebooks/cookiecutter-jupyter-book)."
   ]
  },
  {
   "cell_type": "markdown",
   "metadata": {},
   "source": [
    "## License\n",
    "\n",
    "Copyright © 2025 [Peak Solution GmbH](https://peak-solution.de)\n",
    "\n",
    "The training material in this repository is licensed under a Creative Commons BY-NC-SA 4.0 license. See [LICENSE](../LICENSE) file for more information."
   ]
  }
 ],
 "metadata": {
  "kernelspec": {
   "display_name": "Python 3 (ipykernel)",
   "language": "python",
   "name": "python3"
  },
  "language_info": {
   "codemirror_mode": {
    "name": "ipython",
    "version": 3
   },
   "file_extension": ".py",
   "mimetype": "text/x-python",
   "name": "python",
   "nbconvert_exporter": "python",
   "pygments_lexer": "ipython3",
   "version": "3.11.6"
  }
 },
 "nbformat": 4,
 "nbformat_minor": 4
}
