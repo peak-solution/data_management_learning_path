{
 "cells": [
  {
   "cell_type": "markdown",
   "id": "dbf4ed04",
   "metadata": {},
   "source": [
    "# Peak ODS Adapter for Apache Spark\n",
    "\n",
    "The Peak ODS Adapter for [Apache Spark](https://spark.apache.org/) allows you to interact with [ASAM ODS](https://www.asam.net/standards/detail/ods/wiki/) data using Spark SQL and DataFrames.\n",
    "\n",
    "Furthermore, the Peak ODS Adapter for Apache Spark also allows to export your data to the big data world by providing the ASAM ODS Big Data Connector functionalities to you.\n",
    "\n",
    "![Powered by Apache Spark](/images/Spark.png)\n",
    "\n",
    "## Overview\n",
    "\n",
    "The *Peak ODS Adapter for Apache Spark* defines the ODS connectivity as a Data Source format like all other Spark Adaptors. So you use the *Peak ODS Adapter for Apache Spark* Data Source formats to get the data into the Spark DataFrame (`read`).\n",
    "\n",
    "The *Peak ODS Adapter for Apache Spark* supports three Data Source formats:\n",
    "\n",
    "* *odsinstances*: Use `format(\"odsinstances\")` to get instance data. The Spark DataFrame you're working on will contains all application attributes as columns and all instances of the loaded entity (application element) as rows.\n",
    "\n",
    "\n",
    "  **Notebook**: [📓 Work with instance data](Spark_ODS_instance_data.ipynb)\n",
    "\n",
    "* *ods*: Use `format(\"ods\")` to get measurement (bulk) data. Your Spark DataFrame will contain all channels (MeaQuantities) as columns. When querying data from multiple measurements, it will be concatenated in the DataFrame. The first column in the DataFrame contains the information to which measurement (submatrix) the specific row belongs.\n",
    "\n",
    "\n",
    "  **Notebook**: [📓 Work with measurement data](Spark_ODS_measurement_data.ipynb)\n",
    "\n",
    "* *mappedodsinstances*: Use `format(\"mappedodsinstances\")` to read instance data according to the ASAM ODS Big Data Connector standard. With the help of an ASAM ODS Export Definition File you define which attributes of a certain entity to be loaded, you can map the attribute to a different name (alias) and you can implicitly join other entities of your data model (schema).\n",
    "\n",
    "\n",
    "  **Notebook**: [📓 ASAM ODS Big Data Connector](Spark_ODS_big_data.ipynb)\n",
    "\n",
    "Note: You can use other Spark Data Source formats, such as for instance `\"avro\"`, for exporting the DataFrame (`write`).\n",
    "\n",
    "## Compare Spark DataFrame and Pandas DataFrame\n",
    "\n",
    "Due to lazy evaluation and an optimized execution plan, Spark DataFrames can cope with massive datasets that exceed the memory potential of a single device and leverage the computing capabilities of Spark. \n",
    "\n",
    "On the other side, Spark DataFrames require distributed computing surroundings and cluster configuration, which provides complexity compared to a single-machine solution like Pandas DataFrames.\n",
    "\n",
    "For a more detailed discussion on the differences between Spark and Pandas DataFrames, see for example: [Difference between Spark DataFrame and Pandas DataFrame](https://www.tutorialspoint.com/difference-between-spark-dataframe-and-pandas-dataframe)\n"
   ]
  },
  {
   "cell_type": "markdown",
   "id": "941bdfc1",
   "metadata": {},
   "source": [
    "## License\n",
    "\n",
    "Copyright © 2025 [Peak Solution GmbH](https://peak-solution.de)\n",
    "\n",
    "The training material in this repository is licensed under a Creative Commons BY-NC-SA 4.0 license. See [LICENSE](../LICENSE) file for more information."
   ]
  },
  {
   "cell_type": "markdown",
   "id": "e178c96e",
   "metadata": {},
   "source": [
    "**Notebook**: [📓 Back to course overview](../overview.ipynb)"
   ]
  }
 ],
 "metadata": {
  "kernelspec": {
   "display_name": "Python 3 (ipykernel)",
   "language": "python",
   "name": "python3"
  },
  "language_info": {
   "codemirror_mode": {
    "name": "ipython",
    "version": 3
   },
   "file_extension": ".py",
   "mimetype": "text/x-python",
   "name": "python",
   "nbconvert_exporter": "python",
   "pygments_lexer": "ipython3",
   "version": "3.11.5"
  }
 },
 "nbformat": 4,
 "nbformat_minor": 5
}
