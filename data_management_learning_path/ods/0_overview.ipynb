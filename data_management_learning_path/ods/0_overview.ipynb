{
 "cells": [
  {
   "cell_type": "markdown",
   "metadata": {},
   "source": [
    "# Working with Data and Model"
   ]
  },
  {
   "cell_type": "markdown",
   "metadata": {},
   "source": [
    "## Example Notebooks"
   ]
  },
  {
   "cell_type": "markdown",
   "metadata": {},
   "source": [
    "### Explore the Data Model\n",
    "\n",
    "The strength and flexibility of an ASAM ODS server is storing the data according to a data model which suites your data needs. Like an [Entity-relationship model](https://en.wikipedia.org/wiki/Entity%E2%80%93relationship_model) it defines your business objects, but adds additional semantic information. \n",
    "\n",
    "Working with <<_jaquel_queries>> requires some knowledge of your application model and the [ASAM ODS Base Model](https://www.asam.net/standards/detail/ods/wiki/). \n",
    "\n",
    "The notebook gives some ideas for looking into the data model.\n",
    "\n",
    "\n",
    "- **Notebook**: [📓 Explore the Data Model](3_explore_the_data_model.ipynb)"
   ]
  },
  {
   "cell_type": "markdown",
   "metadata": {},
   "source": [
    "### Query Peak ODS Server\n",
    "\n",
    "In the notebook you learn how to connect to a _Peak ODS Server_ and query for data (objects) in the server.\n",
    "Starting from simple queries, over defining the returned data sets up to using referenced objects, all major aspects of programmatically data exploration are covered.\n",
    "\n",
    "- **Notebook**: [📓 Query Peak ODS Server](1_query-asam-server.ipynb)"
   ]
  },
  {
   "cell_type": "markdown",
   "metadata": {},
   "source": [
    "### Load measurement data\n",
    "\n",
    "The notebook explains how to receive time series (measurement) data from the _Peak ODS Server_ and converts it to [pandas.DataFrames](https://pandas.pydata.org/) for further processing.\n",
    "\n",
    "\n",
    "- **Notebook**: [📓 Load measurement data](2_load_measurement.ipynb)"
   ]
  },
  {
   "cell_type": "markdown",
   "metadata": {},
   "source": [
    "## License\n",
    "\n",
    "Copyright © 2024 [Peak Solution GmbH](https://peak-solution.de)\n",
    "\n",
    "The training material in this repository is licensed under a Creative Commons BY-NC-SA 4.0 license. See [LICENSE](../LICENSE) file for more information."
   ]
  }
 ],
 "metadata": {
  "kernelspec": {
   "display_name": "Python 3 (ipykernel)",
   "language": "python",
   "name": "python3"
  },
  "language_info": {
   "codemirror_mode": {
    "name": "ipython",
    "version": 3
   },
   "file_extension": ".py",
   "mimetype": "text/x-python",
   "name": "python",
   "nbconvert_exporter": "python",
   "pygments_lexer": "ipython3",
   "version": "3.11.6"
  }
 },
 "nbformat": 4,
 "nbformat_minor": 4
}
