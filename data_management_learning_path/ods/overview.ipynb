{
 "cells": [
  {
   "cell_type": "markdown",
   "metadata": {},
   "source": [
    "# ASAM ODS Overview\n",
    "\n",
    "[ASAM ODS](https://www.asam.net/standards/detail/ods/wiki/) stands for “Open Data Services” and is an established standard published by ASAM e.V. It defines APIs and formats for storing and retrieving test and measurement data. Its strength is to provide a holistic data view, even if the data sources are of different format. We discuss integrating legacy data into ASAM ODS servers in the chapter [EXD-API Plugins](/exd_api/overview.md).\n",
    "\n",
    "In our examples we use the open-source [Python ASAM ODSBox](https://peak-solution.github.io/odsbox/) introducing *JAQuel Queries* and [pandas.DataFrames](https://pandas.pydata.org/) to the ASAM ODS API, which makes dealing with ASAM ODS data in Python more efficient. \n"
   ]
  },
  {
   "cell_type": "markdown",
   "metadata": {},
   "source": [
    "## Dealing with ASAM ODS data\n",
    "\n",
    "As aforementioned the strength of ASAM ODS is integrating different data formats into a holistic data view. A typical example is the management and hosting of measurement files of a test and measurement department.\n",
    "\n",
    "The data we're talking about is time series data of certain measurements and in the first chapter [Load measurement data](load_measurement.ipynb) we will explain how to deal with time series data. \n",
    "\n",
    "Furthermore, measurements are often taken in the context of a test, a series of tests or even test campaigns - so there is a data context or hierarchy. Additionally, measurements often contain information about their start time, their engineering units and many more - this is what we call meta data. How to make use of it we're going to talk about in the second chapter [Query Peak ODS Server](query-asam-server.ipynb). The queries used in this chapter are based on the [JAQueL Query Language](JAQueL.md) - an intuitive and lightweight JSON-wrapper on the standardized [ASAM ODS REST API](https://www.asam.net/standards/detail/ods/wiki/).\n",
    "\n",
    "In the second half of this part you will get some examples of using ASAM ODS data:\n",
    "* [Electric Motor Temperature](kaggl_electric_motor_temperature_example.ipynb)\n",
    "* [Crash Analysis - HIC Example](crash_analysis.ipynb)\n",
    "* [ASAM ODS data for Microsoft Power BI Desktop](powerbi.ipynb)\n",
    "\n",
    "There is also a [playground](playground.ipynb) you can change and extend to your needs.\n",
    "\n",
    "At the end you find chapter on evaluating [the ASAM ODS Data Model](explore_the_data_model.ipynb).\n"
   ]
  },
  {
   "cell_type": "markdown",
   "metadata": {},
   "source": [
    "## Course Outline\n",
    "\n",
    "### Load measurement data\n",
    "- **Notebook**: [📓 Load measurement data](load_measurement.ipynb)\n",
    "### Query Peak ODS Server\n",
    "- **Notebook**: [📓 Query Peak ODS Server](query-asam-server.ipynb)\n",
    "### Electric Motor Temperature\n",
    "- **Notebook**: [📓 Electric Motor Temperature](kaggl_electric_motor_temperature_example.ipynb)\n",
    "### Crash Analysis - HIC Example\n",
    "- **Notebook**: [📓 Crash Analysis - HIC Example](crash_analysis.ipynb)\n",
    "### Power BI Desktop\n",
    "- **Notebook**: [📓 ASAM ODS data for Microsoft Power BI Desktop](powerbi.ipynb)\n",
    "### Playground\n",
    "- **Notebook**: [📓 Playground](playground.ipynb)\n",
    "### Explore the Data Model\n",
    "- **Notebook**: [📓 Explore the Data Model](explore_the_data_model.ipynb)\n"
   ]
  },
  {
   "cell_type": "markdown",
   "metadata": {},
   "source": [
    "## License\n",
    "\n",
    "Copyright © 2025 [Peak Solution GmbH](https://peak-solution.de)\n",
    "\n",
    "The training material in this repository is licensed under a Creative Commons BY-NC-SA 4.0 license. See [LICENSE](../LICENSE) file for more information."
   ]
  }
 ],
 "metadata": {
  "kernelspec": {
   "display_name": "Python 3 (ipykernel)",
   "language": "python",
   "name": "python3"
  },
  "language_info": {
   "codemirror_mode": {
    "name": "ipython",
    "version": 3
   },
   "file_extension": ".py",
   "mimetype": "text/x-python",
   "name": "python",
   "nbconvert_exporter": "python",
   "pygments_lexer": "ipython3",
   "version": "3.11.6"
  }
 },
 "nbformat": 4,
 "nbformat_minor": 4
}
