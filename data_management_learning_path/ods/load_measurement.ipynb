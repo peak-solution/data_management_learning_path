{
 "cells": [
  {
   "attachments": {},
   "cell_type": "markdown",
   "metadata": {},
   "source": [
    "# Load Measurement Data (Time Series)\n",
    "\n",
    "In this example Notebook, we show you how to load time series (channel) data from your Peak ODS Server.\n",
    "\n",
    "The first sections are on initializing and connecting. The fun starts with \"Load Measurement\"."
   ]
  },
  {
   "cell_type": "markdown",
   "metadata": {},
   "source": [
    "## Dependencies for this notebook"
   ]
  },
  {
   "attachments": {},
   "cell_type": "markdown",
   "metadata": {},
   "source": [
    "The [ASAM ODSBox](https://pypi.org/project/odsbox/) contain some functionality that wraps the ODS HTTP API making using Python easier  ;-)\n",
    "\n",
    "It contains:\n",
    "- http wrapper implemented using protobuf and requests\n",
    "- utility that converts ODS DataMatrices into pandas.DataFrame"
   ]
  },
  {
   "cell_type": "code",
   "execution_count": 2,
   "metadata": {},
   "outputs": [],
   "source": [
    "from odsbox.con_i import ConI\n",
    "from odsbox.submatrix_to_pandas import submatrix_to_pandas"
   ]
  },
  {
   "attachments": {},
   "cell_type": "markdown",
   "metadata": {},
   "source": [
    "## Connect to ASAM ODS server"
   ]
  },
  {
   "cell_type": "markdown",
   "metadata": {},
   "source": [
    "The ODS HTTP API is a session based API. The session ID is called conI in the ODS documentation. The [ASAM ODSBox](https://pypi.org/project/odsbox/) uses con_i as API object representing the session. Close this session to release the connection license. Otherwise the session will be auto closed after 30 minutes of inactivity."
   ]
  },
  {
   "cell_type": "code",
   "execution_count": 3,
   "metadata": {},
   "outputs": [],
   "source": [
    "conI = ConI(url='http://79.140.180.128:10032/api', auth=('Demo','mdm'))"
   ]
  },
  {
   "cell_type": "markdown",
   "metadata": {},
   "source": [
    "## Load Measurement "
   ]
  },
  {
   "attachments": {},
   "cell_type": "markdown",
   "metadata": {},
   "source": [
    "### Query for available measurement data\n",
    "Measurement (or time series) data is contained in a structure called 'Submatrix' containing the individual channels (columns) of the measurement.\n",
    "In the example below the first 10 submatrices of some MDF4 files (see query pattern) are requested from the server.\n",
    "Let's pick the first submatrix of that list for further data exploration."
   ]
  },
  {
   "cell_type": "code",
   "execution_count": 4,
   "metadata": {
    "scrolled": true
   },
   "outputs": [
    {
     "name": "stdout",
     "output_type": "stream",
     "text": [
      "  SubMatrix.Name  SubMatrix.Id\n",
      "0     group_0000             1\n",
      "1     group_0000             2\n",
      "2     group_0000             3\n",
      "3     group_0000             4\n",
      "4     group_0000             5\n",
      "5     group_0000             6\n",
      "6     group_0000             7\n",
      "7     group_0000             8\n",
      "8     group_0000             9\n",
      "9     group_0000            10\n",
      "Submatrix id: 1\n"
     ]
    }
   ],
   "source": [
    "sms = conI.query_data({\n",
    "#    \"SubMatrix\": {\"measurement.test.Name\": {\"$like\": \"Profile*.mf4\"}},\n",
    "    \"SubMatrix\": {\"measurement.Name\": {\"$like\": \"Profile*\"}},\n",
    "    \"$attributes\": {\n",
    "        \"Name\": 1,\n",
    "        \"Id\": 1\n",
    "    },\n",
    "    \"$options\": {\"$rowlimit\": 10}\n",
    "})\n",
    "\n",
    "print(sms)\n",
    "\n",
    "# just pick the first one\n",
    "submatrix_id = sms[\"SubMatrix.Id\"].iloc[0]\n",
    "print(\"Submatrix id: \" + str(submatrix_id))"
   ]
  },
  {
   "attachments": {},
   "cell_type": "markdown",
   "metadata": {},
   "source": [
    "### Load measurement data and convert to DataFrame\n",
    "From our imported library we use 'submatrix_to_dataframe' to get a pandas.DataFrame from that submatrix we've selected above..."
   ]
  },
  {
   "cell_type": "code",
   "execution_count": 5,
   "metadata": {},
   "outputs": [
    {
     "data": {
      "text/html": [
       "<div>\n",
       "<style scoped>\n",
       "    .dataframe tbody tr th:only-of-type {\n",
       "        vertical-align: middle;\n",
       "    }\n",
       "\n",
       "    .dataframe tbody tr th {\n",
       "        vertical-align: top;\n",
       "    }\n",
       "\n",
       "    .dataframe thead th {\n",
       "        text-align: right;\n",
       "    }\n",
       "</style>\n",
       "<table border=\"1\" class=\"dataframe\">\n",
       "  <thead>\n",
       "    <tr style=\"text-align: right;\">\n",
       "      <th></th>\n",
       "      <th>U_q</th>\n",
       "      <th>Coolant</th>\n",
       "      <th>Stator_winding</th>\n",
       "      <th>U_d</th>\n",
       "      <th>Stator_tooth</th>\n",
       "      <th>Motor_speed</th>\n",
       "      <th>I_d</th>\n",
       "      <th>I_q</th>\n",
       "      <th>Pm</th>\n",
       "      <th>Stator_yoke</th>\n",
       "      <th>Ambient</th>\n",
       "      <th>Torque</th>\n",
       "    </tr>\n",
       "    <tr>\n",
       "      <th>time</th>\n",
       "      <th></th>\n",
       "      <th></th>\n",
       "      <th></th>\n",
       "      <th></th>\n",
       "      <th></th>\n",
       "      <th></th>\n",
       "      <th></th>\n",
       "      <th></th>\n",
       "      <th></th>\n",
       "      <th></th>\n",
       "      <th></th>\n",
       "      <th></th>\n",
       "    </tr>\n",
       "  </thead>\n",
       "  <tbody>\n",
       "    <tr>\n",
       "      <th>0.0</th>\n",
       "      <td>49.647366</td>\n",
       "      <td>18.024563</td>\n",
       "      <td>19.063377</td>\n",
       "      <td>-0.328863</td>\n",
       "      <td>18.268650</td>\n",
       "      <td>999.919312</td>\n",
       "      <td>-1.999769</td>\n",
       "      <td>1.094671</td>\n",
       "      <td>25.895393</td>\n",
       "      <td>18.141254</td>\n",
       "      <td>22.607321</td>\n",
       "      <td>-0.018755</td>\n",
       "    </tr>\n",
       "    <tr>\n",
       "      <th>0.5</th>\n",
       "      <td>49.668068</td>\n",
       "      <td>18.021235</td>\n",
       "      <td>19.061762</td>\n",
       "      <td>-0.351566</td>\n",
       "      <td>18.270451</td>\n",
       "      <td>999.944580</td>\n",
       "      <td>-2.001055</td>\n",
       "      <td>1.097549</td>\n",
       "      <td>25.889824</td>\n",
       "      <td>18.132864</td>\n",
       "      <td>22.605879</td>\n",
       "      <td>-0.019826</td>\n",
       "    </tr>\n",
       "    <tr>\n",
       "      <th>1.0</th>\n",
       "      <td>49.672482</td>\n",
       "      <td>18.016760</td>\n",
       "      <td>19.058098</td>\n",
       "      <td>-0.363712</td>\n",
       "      <td>18.269810</td>\n",
       "      <td>999.957214</td>\n",
       "      <td>-2.000888</td>\n",
       "      <td>1.097794</td>\n",
       "      <td>25.889381</td>\n",
       "      <td>18.076689</td>\n",
       "      <td>22.603333</td>\n",
       "      <td>-0.015597</td>\n",
       "    </tr>\n",
       "    <tr>\n",
       "      <th>1.5</th>\n",
       "      <td>49.652351</td>\n",
       "      <td>18.008602</td>\n",
       "      <td>19.058111</td>\n",
       "      <td>-0.338390</td>\n",
       "      <td>18.269352</td>\n",
       "      <td>999.964417</td>\n",
       "      <td>-1.999512</td>\n",
       "      <td>1.096257</td>\n",
       "      <td>25.890423</td>\n",
       "      <td>18.119398</td>\n",
       "      <td>22.595135</td>\n",
       "      <td>-0.017599</td>\n",
       "    </tr>\n",
       "    <tr>\n",
       "      <th>2.0</th>\n",
       "      <td>49.660404</td>\n",
       "      <td>17.992428</td>\n",
       "      <td>19.069317</td>\n",
       "      <td>-0.363959</td>\n",
       "      <td>18.269024</td>\n",
       "      <td>999.976379</td>\n",
       "      <td>-2.001059</td>\n",
       "      <td>1.098132</td>\n",
       "      <td>25.892845</td>\n",
       "      <td>18.161577</td>\n",
       "      <td>22.599865</td>\n",
       "      <td>-0.022728</td>\n",
       "    </tr>\n",
       "  </tbody>\n",
       "</table>\n",
       "</div>"
      ],
      "text/plain": [
       "            U_q    Coolant  Stator_winding       U_d  Stator_tooth  \\\n",
       "time                                                                 \n",
       "0.0   49.647366  18.024563       19.063377 -0.328863     18.268650   \n",
       "0.5   49.668068  18.021235       19.061762 -0.351566     18.270451   \n",
       "1.0   49.672482  18.016760       19.058098 -0.363712     18.269810   \n",
       "1.5   49.652351  18.008602       19.058111 -0.338390     18.269352   \n",
       "2.0   49.660404  17.992428       19.069317 -0.363959     18.269024   \n",
       "\n",
       "      Motor_speed       I_d       I_q         Pm  Stator_yoke    Ambient  \\\n",
       "time                                                                       \n",
       "0.0    999.919312 -1.999769  1.094671  25.895393    18.141254  22.607321   \n",
       "0.5    999.944580 -2.001055  1.097549  25.889824    18.132864  22.605879   \n",
       "1.0    999.957214 -2.000888  1.097794  25.889381    18.076689  22.603333   \n",
       "1.5    999.964417 -1.999512  1.096257  25.890423    18.119398  22.595135   \n",
       "2.0    999.976379 -2.001059  1.098132  25.892845    18.161577  22.599865   \n",
       "\n",
       "        Torque  \n",
       "time            \n",
       "0.0  -0.018755  \n",
       "0.5  -0.019826  \n",
       "1.0  -0.015597  \n",
       "1.5  -0.017599  \n",
       "2.0  -0.022728  "
      ]
     },
     "execution_count": 5,
     "metadata": {},
     "output_type": "execute_result"
    }
   ],
   "source": [
    "df = submatrix_to_pandas(conI, submatrix_id)\n",
    "if \"time\" in df.columns: \n",
    "    df.set_index(\"time\", inplace=True)\n",
    "df.head()"
   ]
  },
  {
   "attachments": {},
   "cell_type": "markdown",
   "metadata": {},
   "source": [
    "### Working with the DataFrame\n",
    "Now that the data is in a DataFrame, you can use all operations supported on DataFrames.\n",
    "So let's dump the content of the DataFrame:"
   ]
  },
  {
   "cell_type": "code",
   "execution_count": 6,
   "metadata": {},
   "outputs": [
    {
     "data": {
      "text/html": [
       "<div>\n",
       "<style scoped>\n",
       "    .dataframe tbody tr th:only-of-type {\n",
       "        vertical-align: middle;\n",
       "    }\n",
       "\n",
       "    .dataframe tbody tr th {\n",
       "        vertical-align: top;\n",
       "    }\n",
       "\n",
       "    .dataframe thead th {\n",
       "        text-align: right;\n",
       "    }\n",
       "</style>\n",
       "<table border=\"1\" class=\"dataframe\">\n",
       "  <thead>\n",
       "    <tr style=\"text-align: right;\">\n",
       "      <th></th>\n",
       "      <th>U_q</th>\n",
       "      <th>Coolant</th>\n",
       "      <th>Stator_winding</th>\n",
       "      <th>U_d</th>\n",
       "      <th>Stator_tooth</th>\n",
       "      <th>Motor_speed</th>\n",
       "      <th>I_d</th>\n",
       "      <th>I_q</th>\n",
       "      <th>Pm</th>\n",
       "      <th>Stator_yoke</th>\n",
       "      <th>Ambient</th>\n",
       "      <th>Torque</th>\n",
       "    </tr>\n",
       "  </thead>\n",
       "  <tbody>\n",
       "    <tr>\n",
       "      <th>count</th>\n",
       "      <td>14788.000000</td>\n",
       "      <td>14788.000000</td>\n",
       "      <td>14788.000000</td>\n",
       "      <td>14788.000000</td>\n",
       "      <td>14788.000000</td>\n",
       "      <td>14788.000000</td>\n",
       "      <td>14788.000000</td>\n",
       "      <td>14788.000000</td>\n",
       "      <td>14788.000000</td>\n",
       "      <td>14788.000000</td>\n",
       "      <td>14788.000000</td>\n",
       "      <td>14788.000000</td>\n",
       "    </tr>\n",
       "    <tr>\n",
       "      <th>mean</th>\n",
       "      <td>47.176984</td>\n",
       "      <td>18.801043</td>\n",
       "      <td>30.747415</td>\n",
       "      <td>-18.290178</td>\n",
       "      <td>27.356993</td>\n",
       "      <td>999.990768</td>\n",
       "      <td>-19.476087</td>\n",
       "      <td>56.473858</td>\n",
       "      <td>33.213100</td>\n",
       "      <td>23.788795</td>\n",
       "      <td>22.761450</td>\n",
       "      <td>43.519544</td>\n",
       "    </tr>\n",
       "    <tr>\n",
       "      <th>std</th>\n",
       "      <td>3.140075</td>\n",
       "      <td>0.367355</td>\n",
       "      <td>9.565914</td>\n",
       "      <td>21.063357</td>\n",
       "      <td>6.176008</td>\n",
       "      <td>0.009400</td>\n",
       "      <td>20.486365</td>\n",
       "      <td>64.907315</td>\n",
       "      <td>4.149520</td>\n",
       "      <td>4.282580</td>\n",
       "      <td>0.636221</td>\n",
       "      <td>50.840517</td>\n",
       "    </tr>\n",
       "    <tr>\n",
       "      <th>min</th>\n",
       "      <td>43.356476</td>\n",
       "      <td>17.913229</td>\n",
       "      <td>19.058098</td>\n",
       "      <td>-43.184044</td>\n",
       "      <td>18.268650</td>\n",
       "      <td>999.688477</td>\n",
       "      <td>-43.516140</td>\n",
       "      <td>1.094351</td>\n",
       "      <td>25.889381</td>\n",
       "      <td>18.076689</td>\n",
       "      <td>19.852739</td>\n",
       "      <td>-0.096329</td>\n",
       "    </tr>\n",
       "    <tr>\n",
       "      <th>25%</th>\n",
       "      <td>43.501170</td>\n",
       "      <td>18.528472</td>\n",
       "      <td>22.157340</td>\n",
       "      <td>-43.003096</td>\n",
       "      <td>21.800301</td>\n",
       "      <td>999.987488</td>\n",
       "      <td>-43.511697</td>\n",
       "      <td>1.097087</td>\n",
       "      <td>29.251081</td>\n",
       "      <td>19.850620</td>\n",
       "      <td>22.393816</td>\n",
       "      <td>0.171608</td>\n",
       "    </tr>\n",
       "    <tr>\n",
       "      <th>50%</th>\n",
       "      <td>49.522438</td>\n",
       "      <td>18.754805</td>\n",
       "      <td>23.516482</td>\n",
       "      <td>-0.362188</td>\n",
       "      <td>23.189936</td>\n",
       "      <td>999.990540</td>\n",
       "      <td>-2.001830</td>\n",
       "      <td>1.097990</td>\n",
       "      <td>32.267193</td>\n",
       "      <td>21.463126</td>\n",
       "      <td>23.097136</td>\n",
       "      <td>0.197358</td>\n",
       "    </tr>\n",
       "    <tr>\n",
       "      <th>75%</th>\n",
       "      <td>49.972665</td>\n",
       "      <td>19.083945</td>\n",
       "      <td>42.790341</td>\n",
       "      <td>-0.315381</td>\n",
       "      <td>34.857414</td>\n",
       "      <td>999.993774</td>\n",
       "      <td>-2.000438</td>\n",
       "      <td>132.617447</td>\n",
       "      <td>37.460180</td>\n",
       "      <td>28.999059</td>\n",
       "      <td>23.209249</td>\n",
       "      <td>103.087502</td>\n",
       "    </tr>\n",
       "    <tr>\n",
       "      <th>max</th>\n",
       "      <td>50.067646</td>\n",
       "      <td>19.969273</td>\n",
       "      <td>43.397926</td>\n",
       "      <td>-0.124184</td>\n",
       "      <td>35.824593</td>\n",
       "      <td>1000.435913</td>\n",
       "      <td>-1.996639</td>\n",
       "      <td>132.619171</td>\n",
       "      <td>39.938965</td>\n",
       "      <td>29.698214</td>\n",
       "      <td>23.719465</td>\n",
       "      <td>103.667618</td>\n",
       "    </tr>\n",
       "  </tbody>\n",
       "</table>\n",
       "</div>"
      ],
      "text/plain": [
       "                U_q       Coolant  Stator_winding           U_d  Stator_tooth  \\\n",
       "count  14788.000000  14788.000000    14788.000000  14788.000000  14788.000000   \n",
       "mean      47.176984     18.801043       30.747415    -18.290178     27.356993   \n",
       "std        3.140075      0.367355        9.565914     21.063357      6.176008   \n",
       "min       43.356476     17.913229       19.058098    -43.184044     18.268650   \n",
       "25%       43.501170     18.528472       22.157340    -43.003096     21.800301   \n",
       "50%       49.522438     18.754805       23.516482     -0.362188     23.189936   \n",
       "75%       49.972665     19.083945       42.790341     -0.315381     34.857414   \n",
       "max       50.067646     19.969273       43.397926     -0.124184     35.824593   \n",
       "\n",
       "        Motor_speed           I_d           I_q            Pm   Stator_yoke  \\\n",
       "count  14788.000000  14788.000000  14788.000000  14788.000000  14788.000000   \n",
       "mean     999.990768    -19.476087     56.473858     33.213100     23.788795   \n",
       "std        0.009400     20.486365     64.907315      4.149520      4.282580   \n",
       "min      999.688477    -43.516140      1.094351     25.889381     18.076689   \n",
       "25%      999.987488    -43.511697      1.097087     29.251081     19.850620   \n",
       "50%      999.990540     -2.001830      1.097990     32.267193     21.463126   \n",
       "75%      999.993774     -2.000438    132.617447     37.460180     28.999059   \n",
       "max     1000.435913     -1.996639    132.619171     39.938965     29.698214   \n",
       "\n",
       "            Ambient        Torque  \n",
       "count  14788.000000  14788.000000  \n",
       "mean      22.761450     43.519544  \n",
       "std        0.636221     50.840517  \n",
       "min       19.852739     -0.096329  \n",
       "25%       22.393816      0.171608  \n",
       "50%       23.097136      0.197358  \n",
       "75%       23.209249    103.087502  \n",
       "max       23.719465    103.667618  "
      ]
     },
     "execution_count": 6,
     "metadata": {},
     "output_type": "execute_result"
    }
   ],
   "source": [
    "df.describe()"
   ]
  },
  {
   "cell_type": "markdown",
   "metadata": {},
   "source": [
    "... and we can plot some curves (remember we set 'time' to be the index at the beginning) ..."
   ]
  },
  {
   "cell_type": "code",
   "execution_count": 7,
   "metadata": {},
   "outputs": [
    {
     "data": {
      "image/png": "[encoded data removed]",
      "text/plain": [
       "<Figure size 640x480 with 18 Axes>"
      ]
     },
     "metadata": {},
     "output_type": "display_data"
    }
   ],
   "source": [
    "_ = df.plot(kind=\"line\", subplots=True, layout=(6,3), sharex=True)"
   ]
  },
  {
   "cell_type": "markdown",
   "metadata": {},
   "source": [
    "... or only one curve ..."
   ]
  },
  {
   "cell_type": "code",
   "execution_count": 8,
   "metadata": {},
   "outputs": [
    {
     "data": {
      "image/png": "[encoded data removed]",
      "text/plain": [
       "<Figure size 640x480 with 1 Axes>"
      ]
     },
     "metadata": {},
     "output_type": "display_data"
    }
   ],
   "source": [
    "_ = df[df.columns[0]].plot(kind=\"line\")"
   ]
  },
  {
   "cell_type": "markdown",
   "metadata": {},
   "source": [
    "... or get some information of the index channel - time axis should be monotonic ;-)"
   ]
  },
  {
   "cell_type": "code",
   "execution_count": 9,
   "metadata": {},
   "outputs": [
    {
     "data": {
      "text/plain": [
       "True"
      ]
     },
     "execution_count": 9,
     "metadata": {},
     "output_type": "execute_result"
    }
   ],
   "source": [
    "df.index.is_monotonic_increasing"
   ]
  },
  {
   "attachments": {},
   "cell_type": "markdown",
   "metadata": {},
   "source": [
    "## Close Session\n",
    "Don't forget to close the session to release the connection license. Otherwise the session will be auto closed after 30 minutes of inactivity."
   ]
  },
  {
   "cell_type": "code",
   "execution_count": 10,
   "metadata": {},
   "outputs": [],
   "source": [
    "conI.logout()"
   ]
  },
  {
   "cell_type": "markdown",
   "metadata": {},
   "source": [
    "## License\n",
    "\n",
    "Copyright © 2024 [Peak Solution GmbH](https://peak-solution.de)\n",
    "\n",
    "The training material in this repository is licensed under a Creative Commons BY-NC-SA 4.0 license. See [LICENSE](../LICENSE) file for more information."
   ]
  }
 ],
 "metadata": {
  "kernelspec": {
   "display_name": "Python 3 (ipykernel)",
   "language": "python",
   "name": "python3"
  },
  "language_info": {
   "codemirror_mode": {
    "name": "ipython",
    "version": 3
   },
   "file_extension": ".py",
   "mimetype": "text/x-python",
   "name": "python",
   "nbconvert_exporter": "python",
   "pygments_lexer": "ipython3",
   "version": "3.11.6"
  },
  "vscode": {
   "interpreter": {
    "hash": "369f2c481f4da34e4445cda3fffd2e751bd1c4d706f27375911949ba6bb62e1c"
   }
  }
 },
 "nbformat": 4,
 "nbformat_minor": 4
}
