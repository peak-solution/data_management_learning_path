{
 "cells": [
  {
   "cell_type": "markdown",
   "metadata": {},
   "source": [
    "# Explore the ASAM ODS Data Model"
   ]
  },
  {
   "cell_type": "markdown",
   "metadata": {},
   "source": [
    "In this example Notebook, we show you how to explore the data model of your Peak ODS Server. \n",
    "\n",
    "\n",
    "Understanding the data model is important once it comes to query (instance) data from your Peak ODS Server.\n",
    "\n",
    "The first sections is on inspecting the base model. The programming fun starts with \"Explore the ASAM ODS Application Model\"."
   ]
  },
  {
   "cell_type": "markdown",
   "metadata": {},
   "source": [
    "## ASAM ODS Base Model\n",
    "The *ASAM ODS Base Model* defines the sematic or building blocks of an *ASAM ODS Application Model*.\n",
    "It defines the fundamental entities, attributes, and relations that are used to describe and structure measurement and test data in a standardized way.\n",
    "\n",
    "The **ASAM ODS BaseModel Viewer** below lets you interactively inspect the base model.\n",
    "\n",
    "Have fun 😊 exploring the base model. \n",
    "\n",
    "[Click here to open the **ASAM ODS BaseModel Viewer** in a separate window.](https://peak-solution.github.io/data_management_learning_path/_static/asam_ods_basemodel_viewer.html)"
   ]
  },
  {
   "cell_type": "code",
   "execution_count": null,
   "metadata": {},
   "outputs": [
    {
     "data": {
      "text/html": [
       "\n",
       "        <iframe\n",
       "            width=\"100%\"\n",
       "            height=\"600\"\n",
       "            src=\"../_static/asam_ods_basemodel_viewer.html\"\n",
       "            frameborder=\"0\"\n",
       "            allowfullscreen\n",
       "            \n",
       "        ></iframe>\n",
       "        "
      ],
      "text/plain": [
       "<IPython.lib.display.IFrame at 0x74044fd493d0>"
      ]
     },
     "execution_count": 16,
     "metadata": {},
     "output_type": "execute_result"
    }
   ],
   "source": [
    "\n",
    "# The ASAM ODS BaseModel Viewer HTML file is locally installed in the curriculum\n",
    "# We use an IFrame to display it in the notebook\n",
    "#  \n",
    "base_model_viewer = \"../_static/asam_ods_basemodel_viewer.html\"\n",
    "\n",
    "from IPython.display import IFrame\n",
    "IFrame(src=base_model_viewer, width='100%', height=600)\n"
   ]
  },
  {
   "cell_type": "markdown",
   "metadata": {},
   "source": [
    "## ASAM ODS Application Model\n",
    "The ASAM ODS application model use the building blocks of the base model to define an application specific data model - tailored to your needs."
   ]
  },
  {
   "cell_type": "markdown",
   "metadata": {},
   "source": [
    "## Establish session"
   ]
  },
  {
   "cell_type": "markdown",
   "metadata": {},
   "source": [
    "The ODS HTTP API is a session based API. The session ID is called con_i in the ODS documentation. The [ASAM ODSBox](https://pypi.org/project/odsbox/) uses con_i as API object representing the session. Close this session to release the connection license. Otherwise the session will be auto closed after 30 minutes of inactivity."
   ]
  },
  {
   "cell_type": "code",
   "execution_count": null,
   "metadata": {},
   "outputs": [],
   "source": [
    "try:  \n",
    "  import odsbox\n",
    "except:\n",
    "  !pip install odsbox \n",
    "\n",
    "from odsbox.con_i import ConI\n",
    "\n",
    "con_i = ConI(url='https://docker.peak-solution.de:10032/api', auth=('Demo','mdm'))"
   ]
  },
  {
   "cell_type": "markdown",
   "metadata": {},
   "source": [
    "## Explore the Data Model\n",
    "\n",
    "The data model describes the way your data is stored in the Peak ODS Server. The data model consists of entities (you can compare them to class-definitions) and their according attributes and relations to other entities."
   ]
  },
  {
   "cell_type": "code",
   "execution_count": 4,
   "metadata": {},
   "outputs": [],
   "source": [
    "model = con_i.model()"
   ]
  },
  {
   "cell_type": "markdown",
   "metadata": {},
   "source": [
    "### List all Entities"
   ]
  },
  {
   "cell_type": "markdown",
   "metadata": {},
   "source": [
    "Entities are the major building blocks of the data model. You typically query for instances of entities to explore your data. \n",
    "Let's list all entities to see what we have"
   ]
  },
  {
   "cell_type": "code",
   "execution_count": 5,
   "metadata": {},
   "outputs": [
    {
     "name": "stdout",
     "output_type": "stream",
     "text": [
      "StatusValidity\n",
      "Environment\n",
      "TplSensor\n",
      "CatTestEquipmentComp\n",
      "TplTestSequenceComp\n",
      "SubMatrix\n",
      "TplTestSequenceAttr\n",
      "TplTestEquipmentComp\n",
      "WorkflowParameter\n",
      "LocalColumn\n",
      "MDMAttr\n",
      "FavouriteLists\n",
      "TplTestEquipmentAttr\n",
      "TestStep\n",
      "MDMFunction\n",
      "TplTest\n",
      "MDMTag\n",
      "WorkflowParameterSet\n",
      "Test\n",
      "ResultParameterSet\n",
      "TplGroup\n",
      "ActionRun\n",
      "Unit\n",
      "TestSequence\n",
      "MDMRole\n",
      "ValueListValue\n",
      "MDMTagParameter\n",
      "Role\n",
      "ExternalComponent\n",
      "TplTestSequenceRoot\n",
      "Status\n",
      "TplSensorAttr\n",
      "NameMap\n",
      "UserParameter\n",
      "ToCondition\n",
      "ToAction\n",
      "CatSensorAttr\n",
      "Action\n",
      "MeaResult\n",
      "ValueList\n",
      "SystemParameter\n",
      "StructureLevel\n",
      "InitToken\n",
      "MDMGroup\n",
      "MDMLog\n",
      "CatTestSequenceAttr\n",
      "Classification\n",
      "Workflow\n",
      "CatUnitUnderTestComp\n",
      "ExtSystemAttr\n",
      "TplTestStep\n",
      "TplUnitUnderTestComp\n",
      "MeaQuantity\n",
      "TplTestStepUsage\n",
      "TplParameter\n",
      "WorkflowRun\n",
      "CatUnitUnderTestAttr\n",
      "TplTestEquipmentRoot\n",
      "MDMTagParameterSet\n",
      "TplUnitUnderTestAttr\n",
      "TestEquipment\n",
      "PhysDimension\n",
      "MDMLocalization\n",
      "CatSensor\n",
      "Condition\n",
      "TplUnitUnderTestRoot\n",
      "TokenType\n",
      "TplSubMatrix\n",
      "UnitUnderTest\n",
      "User\n",
      "Project\n",
      "ProjectDomain\n",
      "Domain\n",
      "Quantity\n",
      "CatTestEquipmentAttr\n",
      "AttributeMap\n",
      "ResultParameter\n",
      "ExtSystem\n",
      "CatTestSequenceComp\n",
      "TplMeaResult\n",
      "DynToken\n",
      "TplParameterSet\n"
     ]
    }
   ],
   "source": [
    "for entity in model.entities:\n",
    "  print(entity)"
   ]
  },
  {
   "cell_type": "markdown",
   "metadata": {},
   "source": [
    "### Examine a specific entitiy\n",
    "The entitiy definition contains some information of the entity itself and all attributes and references of this entity.\n",
    "\n",
    "Have a specifc look to the *base_name* - in other data models your specific entity may have a diferent name. You can use the base_name for data model agnostic queries. \n",
    "\n",
    "Also the  *aid* can be of importance of you deal directly with the ASAM ODS REST API, not using JAQueL."
   ]
  },
  {
   "cell_type": "code",
   "execution_count": 6,
   "metadata": {},
   "outputs": [
    {
     "data": {
      "text/plain": [
       "name: \"Unit\"\n",
       "base_name: \"AoUnit\"\n",
       "aid: 54\n",
       "attributes {\n",
       "  key: \"dB\"\n",
       "  value {\n",
       "    name: \"dB\"\n",
       "    data_type: DT_BOOLEAN\n",
       "    length: 1\n",
       "    id: 7\n",
       "  }\n",
       "}\n",
       "attributes {\n",
       "  key: \"dB_reference_factor\"\n",
       "  value {\n",
       "    name: \"dB_reference_factor\"\n",
       "    data_type: DT_FLOAT\n",
       "    length: 1\n",
       "    id: 8\n",
       "  }\n",
       "}\n",
       "attributes {\n",
       "  key: \"Offset\"\n",
       "  value {\n",
       "    name: \"Offset\"\n",
       "    base_name: \"offset\"\n",
       "    data_type: DT_DOUBLE\n",
       "    length: 1\n",
       "    obligatory: true\n",
       "    id: 6\n",
       "  }\n",
       "}\n",
       "attributes {\n",
       "  key: \"Name\"\n",
       "  value {\n",
       "    name: \"Name\"\n",
       "    base_name: \"name\"\n",
       "    data_type: DT_STRING\n",
       "    length: 50\n",
       "    obligatory: true\n",
       "    unique: true\n",
       "    id: 1\n",
       "  }\n",
       "}\n",
       "attributes {\n",
       "  key: \"MimeType\"\n",
       "  value {\n",
       "    name: \"MimeType\"\n",
       "    base_name: \"mime_type\"\n",
       "    data_type: DT_STRING\n",
       "    length: 256\n",
       "    obligatory: true\n",
       "    id: 2\n",
       "  }\n",
       "}\n",
       "attributes {\n",
       "  key: \"Id\"\n",
       "  value {\n",
       "    name: \"Id\"\n",
       "    base_name: \"id\"\n",
       "    data_type: DT_LONGLONG\n",
       "    length: 1\n",
       "    obligatory: true\n",
       "    unique: true\n",
       "    autogenerated: true\n",
       "  }\n",
       "}\n",
       "attributes {\n",
       "  key: \"Factor\"\n",
       "  value {\n",
       "    name: \"Factor\"\n",
       "    base_name: \"factor\"\n",
       "    data_type: DT_DOUBLE\n",
       "    length: 1\n",
       "    obligatory: true\n",
       "    id: 5\n",
       "  }\n",
       "}\n",
       "attributes {\n",
       "  key: \"Description\"\n",
       "  value {\n",
       "    name: \"Description\"\n",
       "    base_name: \"description\"\n",
       "    data_type: DT_STRING\n",
       "    length: 500\n",
       "    id: 3\n",
       "  }\n",
       "}\n",
       "attributes {\n",
       "  key: \"DateCreated\"\n",
       "  value {\n",
       "    name: \"DateCreated\"\n",
       "    base_name: \"version_date\"\n",
       "    data_type: DT_DATE\n",
       "    length: 30\n",
       "    id: 4\n",
       "  }\n",
       "}\n",
       "relations {\n",
       "  key: \"WorkflowParameter\"\n",
       "  value {\n",
       "    name: \"WorkflowParameter\"\n",
       "    base_name: \"parameters\"\n",
       "    inverse_name: \"Unit\"\n",
       "    inverse_base_name: \"unit\"\n",
       "    entity_name: \"WorkflowParameter\"\n",
       "    entity_aid: 73\n",
       "    virtual_reference: true\n",
       "    range_max: -1\n",
       "    inverse_range_max: 1\n",
       "    relation_type: RT_INFO\n",
       "    relationship: RS_INFO_FROM\n",
       "  }\n",
       "}\n",
       "relations {\n",
       "  key: \"TplParameter\"\n",
       "  value {\n",
       "    name: \"TplParameter\"\n",
       "    base_name: \"parameters\"\n",
       "    inverse_name: \"Unit\"\n",
       "    inverse_base_name: \"unit\"\n",
       "    entity_name: \"TplParameter\"\n",
       "    entity_aid: 71\n",
       "    virtual_reference: true\n",
       "    range_max: -1\n",
       "    inverse_range_max: 1\n",
       "    relation_type: RT_INFO\n",
       "    relationship: RS_INFO_FROM\n",
       "  }\n",
       "}\n",
       "relations {\n",
       "  key: \"ResultParameter\"\n",
       "  value {\n",
       "    name: \"ResultParameter\"\n",
       "    base_name: \"parameters\"\n",
       "    inverse_name: \"Unit\"\n",
       "    inverse_base_name: \"unit\"\n",
       "    entity_name: \"ResultParameter\"\n",
       "    entity_aid: 66\n",
       "    virtual_reference: true\n",
       "    range_max: -1\n",
       "    inverse_range_max: 1\n",
       "    relation_type: RT_INFO\n",
       "    relationship: RS_INFO_FROM\n",
       "  }\n",
       "}\n",
       "relations {\n",
       "  key: \"Quantities\"\n",
       "  value {\n",
       "    name: \"Quantities\"\n",
       "    base_name: \"quantities\"\n",
       "    inverse_name: \"Unit\"\n",
       "    inverse_base_name: \"default_unit\"\n",
       "    entity_name: \"Quantity\"\n",
       "    entity_aid: 55\n",
       "    virtual_reference: true\n",
       "    range_max: -1\n",
       "    inverse_range_max: 1\n",
       "    relation_type: RT_INFO\n",
       "    relationship: RS_INFO_FROM\n",
       "  }\n",
       "}\n",
       "relations {\n",
       "  key: \"PhysDimension\"\n",
       "  value {\n",
       "    name: \"PhysDimension\"\n",
       "    base_name: \"phys_dimension\"\n",
       "    inverse_name: \"Units\"\n",
       "    inverse_base_name: \"units\"\n",
       "    entity_name: \"PhysDimension\"\n",
       "    entity_aid: 47\n",
       "    range_min: 1\n",
       "    range_max: 1\n",
       "    inverse_range_max: -1\n",
       "    relation_type: RT_INFO\n",
       "    relationship: RS_INFO_TO\n",
       "  }\n",
       "}\n",
       "relations {\n",
       "  key: \"MeaQuantities\"\n",
       "  value {\n",
       "    name: \"MeaQuantities\"\n",
       "    base_name: \"measurement_quantities\"\n",
       "    inverse_name: \"Unit\"\n",
       "    inverse_base_name: \"unit\"\n",
       "    entity_name: \"MeaQuantity\"\n",
       "    entity_aid: 80\n",
       "    virtual_reference: true\n",
       "    range_max: -1\n",
       "    inverse_range_max: 1\n",
       "    relation_type: RT_INFO\n",
       "    relationship: RS_INFO_FROM\n",
       "  }\n",
       "}\n",
       "relations {\n",
       "  key: \"MDMTagParameter\"\n",
       "  value {\n",
       "    name: \"MDMTagParameter\"\n",
       "    base_name: \"parameters\"\n",
       "    inverse_name: \"Unit\"\n",
       "    inverse_base_name: \"unit\"\n",
       "    entity_name: \"MDMTagParameter\"\n",
       "    entity_aid: 65\n",
       "    virtual_reference: true\n",
       "    range_max: -1\n",
       "    inverse_range_max: 1\n",
       "    relation_type: RT_INFO\n",
       "    relationship: RS_INFO_FROM\n",
       "  }\n",
       "}"
      ]
     },
     "execution_count": 6,
     "metadata": {},
     "output_type": "execute_result"
    }
   ],
   "source": [
    "model.entities[\"Unit\"]"
   ]
  },
  {
   "cell_type": "markdown",
   "metadata": {},
   "source": [
    "### Examine Attributes\n",
    "Looking at the attributes is also important when examine the data model. Like entities, also attributes can have a base_name to be used for data model agnostsic queries.\n",
    "\n",
    "Furthermore *data_type* and *obligatory* information is important - especially when it comes to writing data"
   ]
  },
  {
   "cell_type": "code",
   "execution_count": 7,
   "metadata": {},
   "outputs": [
    {
     "data": {
      "text/plain": [
       "name: \"Name\"\n",
       "base_name: \"name\"\n",
       "data_type: DT_STRING\n",
       "length: 50\n",
       "obligatory: true\n",
       "unique: true\n",
       "id: 1"
      ]
     },
     "execution_count": 7,
     "metadata": {},
     "output_type": "execute_result"
    }
   ],
   "source": [
    "model.entities[\"Unit\"].attributes[\"Name\"]"
   ]
  },
  {
   "cell_type": "markdown",
   "metadata": {},
   "source": [
    "### Examine Relations\n",
    "Relations describe the connection between entities. In a data model relations are important for exploring the data neighbors.\n",
    "Relations have names to identify them (think of identifying a specific tire like \"front left\") and the definition of the entity they're pointing to: the *entity_name*.\n",
    "With *range_min* and *range_max* you can determine whether a relation is obligatory.\n",
    "In case a relation has also a (parallel) backward relation, the *inverse_name* contains this information."
   ]
  },
  {
   "cell_type": "code",
   "execution_count": 8,
   "metadata": {},
   "outputs": [
    {
     "data": {
      "text/plain": [
       "name: \"PhysDimension\"\n",
       "base_name: \"phys_dimension\"\n",
       "inverse_name: \"Units\"\n",
       "inverse_base_name: \"units\"\n",
       "entity_name: \"PhysDimension\"\n",
       "entity_aid: 47\n",
       "range_min: 1\n",
       "range_max: 1\n",
       "inverse_range_max: -1\n",
       "relation_type: RT_INFO\n",
       "relationship: RS_INFO_TO"
      ]
     },
     "execution_count": 8,
     "metadata": {},
     "output_type": "execute_result"
    }
   ],
   "source": [
    "model.entities[\"Unit\"].relations[\"PhysDimension\"]"
   ]
  },
  {
   "cell_type": "markdown",
   "metadata": {},
   "source": [
    "## Close session\n",
    "Don't forget to close the session to release the connection license. Otherwise the session will be auto closed after 30 minutes of inactivity."
   ]
  },
  {
   "cell_type": "code",
   "execution_count": 9,
   "metadata": {},
   "outputs": [],
   "source": [
    "con_i.logout()"
   ]
  },
  {
   "cell_type": "markdown",
   "metadata": {},
   "source": [
    "## License\n",
    "\n",
    "Copyright © 2025 [Peak Solution GmbH](https://peak-solution.de)\n",
    "\n",
    "The training material in this repository is licensed under a Creative Commons BY-NC-SA 4.0 license. See [LICENSE](../LICENSE) file for more information."
   ]
  },
  {
   "cell_type": "markdown",
   "metadata": {},
   "source": [
    "**Notebook**: [📓 Back to ASAM ODS Overview](overview.ipynb)"
   ]
  }
 ],
 "metadata": {
  "kernelspec": {
   "display_name": "Python 3",
   "language": "python",
   "name": "python3"
  },
  "language_info": {
   "codemirror_mode": {
    "name": "ipython",
    "version": 3
   },
   "file_extension": ".py",
   "mimetype": "text/x-python",
   "name": "python",
   "nbconvert_exporter": "python",
   "pygments_lexer": "ipython3",
   "version": "3.11.13"
  }
 },
 "nbformat": 4,
 "nbformat_minor": 4
}
